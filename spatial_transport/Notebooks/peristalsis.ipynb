{
 "cells": [
  {
   "cell_type": "code",
   "id": "initial_id",
   "metadata": {
    "collapsed": true,
    "ExecuteTime": {
     "end_time": "2025-06-20T14:17:51.447198Z",
     "start_time": "2025-06-20T14:17:51.409142Z"
    }
   },
   "source": [
    "import random\n",
    "from pprint import pprint\n",
    "\n",
    "from matplotlib import pyplot as plt\n",
    "from process_bigraph import Composite, ProcessTypes\n",
    "from process_bigraph.emitter import emitter_from_wires, gather_emitter_results\n",
    "\n",
    "from cdFBA import register_types\n",
    "from cdFBA.utils import get_substrates, make_cdfba_composite\n",
    "\n",
    "from spatial_transport.processes.diffusion import get_simple_diffusion_spec\n",
    "from spatial_transport.processes.advection import get_simple_advection_spec\n",
    "from spatial_transport import register_types as register_types2\n",
    "from spatial_transport.utils import generate_voxels, generate_shared_environment, get_regular_edges, run_test"
   ],
   "outputs": [
    {
     "ename": "ImportError",
     "evalue": "cannot import name 'run_test' from 'spatial_transport.utils' (/Users/tasnifrahman/PycharmProjects/spatial_transport/spatial_transport/utils.py)",
     "output_type": "error",
     "traceback": [
      "\u001B[31m---------------------------------------------------------------------------\u001B[39m",
      "\u001B[31mImportError\u001B[39m                               Traceback (most recent call last)",
      "\u001B[36mCell\u001B[39m\u001B[36m \u001B[39m\u001B[32mIn[7]\u001B[39m\u001B[32m, line 14\u001B[39m\n\u001B[32m     12\u001B[39m \u001B[38;5;28;01mfrom\u001B[39;00m\u001B[38;5;250m \u001B[39m\u001B[34;01mspatial_transport\u001B[39;00m\u001B[34;01m.\u001B[39;00m\u001B[34;01mprocesses\u001B[39;00m\u001B[34;01m.\u001B[39;00m\u001B[34;01madvection\u001B[39;00m\u001B[38;5;250m \u001B[39m\u001B[38;5;28;01mimport\u001B[39;00m get_simple_advection_spec\n\u001B[32m     13\u001B[39m \u001B[38;5;28;01mfrom\u001B[39;00m\u001B[38;5;250m \u001B[39m\u001B[34;01mspatial_transport\u001B[39;00m\u001B[38;5;250m \u001B[39m\u001B[38;5;28;01mimport\u001B[39;00m register_types \u001B[38;5;28;01mas\u001B[39;00m register_types2\n\u001B[32m---> \u001B[39m\u001B[32m14\u001B[39m \u001B[38;5;28;01mfrom\u001B[39;00m\u001B[38;5;250m \u001B[39m\u001B[34;01mspatial_transport\u001B[39;00m\u001B[34;01m.\u001B[39;00m\u001B[34;01mutils\u001B[39;00m\u001B[38;5;250m \u001B[39m\u001B[38;5;28;01mimport\u001B[39;00m generate_voxels, generate_shared_environment, get_regular_edges, run_test\n",
      "\u001B[31mImportError\u001B[39m: cannot import name 'run_test' from 'spatial_transport.utils' (/Users/tasnifrahman/PycharmProjects/spatial_transport/spatial_transport/utils.py)"
     ]
    }
   ],
   "execution_count": 7
  },
  {
   "metadata": {
    "ExecuteTime": {
     "end_time": "2025-06-20T14:13:58.382422Z",
     "start_time": "2025-06-20T14:13:58.380795Z"
    }
   },
   "cell_type": "code",
   "source": [
    "# # #Load E. coli model\n",
    "# E_no_galE = cobra.io.load_model(\"iAF1260\")\n",
    "# # #Copy model\n",
    "# E_no_LCTStex = E_no_galE.copy()\n",
    "# # #Knock out galactose metabolism\n",
    "# E_no_galE.genes.b0759.knock_out() # cannot metabolize galactose\n",
    "# # #Knock out Lactose transport reaction LCTStex\n",
    "# E_no_LCTStex.reactions.LCTStex.knock_out() # cannot uptake lactose\n",
    "#\n",
    "# #save models in SBML format\n",
    "# write_sbml_model(E_no_galE, \"E_no_galE.xml\")\n",
    "# write_sbml_model(E_no_LCTStex, \"E_no_LCTStex.xml\")"
   ],
   "id": "e34f95e3015d2ae9",
   "outputs": [],
   "execution_count": 9
  },
  {
   "metadata": {
    "ExecuteTime": {
     "end_time": "2025-06-20T14:15:26.831997Z",
     "start_time": "2025-06-20T14:15:25.638010Z"
    }
   },
   "cell_type": "code",
   "source": [
    "exchanges = ['EX_lcts_e', 'EX_gal_e']\n",
    "all_species = ['EX_lcts_e', 'EX_gal_e', 'deltaGal', 'deltaLac']\n",
    "substrates = get_substrates(model_file=\"iAF1260\", exchanges=exchanges)"
   ],
   "id": "4bd04e17171ac2b6",
   "outputs": [],
   "execution_count": 2
  },
  {
   "metadata": {
    "ExecuteTime": {
     "end_time": "2025-06-20T14:15:26.835882Z",
     "start_time": "2025-06-20T14:15:26.834435Z"
    }
   },
   "cell_type": "code",
   "source": [
    "model_dict = {\n",
    "    'deltaGal':'E_no_galE.xml',\n",
    "    'deltaLac':'E_no_LCTStex.xml'\n",
    "}"
   ],
   "id": "ad5b2ca7deef7a19",
   "outputs": [],
   "execution_count": 3
  },
  {
   "metadata": {
    "ExecuteTime": {
     "end_time": "2025-06-20T14:15:26.843952Z",
     "start_time": "2025-06-20T14:15:26.842165Z"
    }
   },
   "cell_type": "code",
   "source": [
    "voxels = generate_voxels([15,1,0], spacing=1)\n",
    "edges = get_regular_edges(voxels, periodic=False, spacing=1)"
   ],
   "id": "372ef9bedaa0b2f9",
   "outputs": [],
   "execution_count": 4
  },
  {
   "metadata": {
    "ExecuteTime": {
     "end_time": "2025-06-20T14:15:26.941849Z",
     "start_time": "2025-06-20T14:15:26.939816Z"
    }
   },
   "cell_type": "code",
   "source": [
    "def generate_simple_cdfba_composite(voxels, model_dict, exchanges, volume):\n",
    "    substrates = []\n",
    "    species_list = [species for species in model_dict.keys()]\n",
    "    for species, model in model_dict.items():\n",
    "        substrates += get_substrates(model_file=model, exchanges=exchanges)\n",
    "    base_spec = make_cdfba_composite(model_dict=model_dict, exchanges=exchanges, volume=volume, interval=0.1)\n",
    "    for id in voxels:\n",
    "        spec = base_spec.copy()\n",
    "        shared_environment = generate_shared_environment(volume=1, substrates=substrates, species=species_list)\n",
    "        spec[\"Shared Environment\"] = shared_environment\n",
    "        voxels[id].update(spec)\n",
    "    return voxels"
   ],
   "id": "bc5e042c071ded13",
   "outputs": [],
   "execution_count": 5
  },
  {
   "metadata": {
    "ExecuteTime": {
     "end_time": "2025-06-20T14:15:28.095021Z",
     "start_time": "2025-06-20T14:15:27.875368Z"
    }
   },
   "cell_type": "code",
   "source": "compartments = generate_simple_cdfba_composite(voxels, model_dict, exchanges, 1, sub_range=(5,5), bio_range=(0.05,0.05))",
   "id": "7f370162a7c2e1d4",
   "outputs": [
    {
     "ename": "TypeError",
     "evalue": "generate_simple_cdfba_composite() got an unexpected keyword argument 'sub_range'",
     "output_type": "error",
     "traceback": [
      "\u001B[31m---------------------------------------------------------------------------\u001B[39m",
      "\u001B[31mTypeError\u001B[39m                                 Traceback (most recent call last)",
      "\u001B[36mCell\u001B[39m\u001B[36m \u001B[39m\u001B[32mIn[6]\u001B[39m\u001B[32m, line 1\u001B[39m\n\u001B[32m----> \u001B[39m\u001B[32m1\u001B[39m compartments = generate_simple_cdfba_composite(voxels, model_dict, exchanges, \u001B[32m1\u001B[39m, sub_range=(\u001B[32m5\u001B[39m,\u001B[32m5\u001B[39m), bio_range=(\u001B[32m0.05\u001B[39m,\u001B[32m0.05\u001B[39m))\n",
      "\u001B[31mTypeError\u001B[39m: generate_simple_cdfba_composite() got an unexpected keyword argument 'sub_range'"
     ]
    }
   ],
   "execution_count": 6
  },
  {
   "metadata": {
    "ExecuteTime": {
     "end_time": "2025-06-20T14:13:59.625387Z",
     "start_time": "2025-06-20T13:15:05.795385Z"
    }
   },
   "cell_type": "code",
   "source": "spec = {\"Compartments\": compartments, \"Edges\": edges}",
   "id": "e8f0a3a047122d33",
   "outputs": [],
   "execution_count": 23
  },
  {
   "metadata": {
    "ExecuteTime": {
     "end_time": "2025-06-20T14:13:59.636624Z",
     "start_time": "2025-06-20T13:15:05.800886Z"
    }
   },
   "cell_type": "code",
   "source": [
    "for species in model_dict.keys():\n",
    "    substrates.append(species)"
   ],
   "id": "b9b77787aaad334e",
   "outputs": [],
   "execution_count": 24
  },
  {
   "metadata": {
    "ExecuteTime": {
     "end_time": "2025-06-20T14:13:59.637184Z",
     "start_time": "2025-06-20T13:15:05.806076Z"
    }
   },
   "cell_type": "code",
   "source": [
    "substrates_dict = {\n",
    "    \"Lactose C12H22O11\": 0.03,\n",
    "    \"D-Galactose\": 0.06,\n",
    "    \"deltaGal\": 0.001,\n",
    "    \"deltaLac\": 0.001\n",
    "}"
   ],
   "id": "5f6fc53c16953d5a",
   "outputs": [],
   "execution_count": 25
  },
  {
   "metadata": {
    "ExecuteTime": {
     "end_time": "2025-06-20T14:13:59.637799Z",
     "start_time": "2025-06-20T13:15:05.811274Z"
    }
   },
   "cell_type": "code",
   "source": "spec[\"Simple Diffusion\"] = get_simple_diffusion_spec(substrates=substrates_dict, interval = 0.1)",
   "id": "e9b424762eccabc",
   "outputs": [],
   "execution_count": 26
  },
  {
   "metadata": {
    "ExecuteTime": {
     "end_time": "2025-06-20T14:13:59.646374Z",
     "start_time": "2025-06-20T13:15:05.816197Z"
    }
   },
   "cell_type": "code",
   "source": "spec[\"Simple Advection\"] = get_simple_advection_spec(spacing=1, substrates=substrates, advection=[0, 0.5, 0], boundary=\"default\", interval=0.1)",
   "id": "550290f9debebae2",
   "outputs": [],
   "execution_count": 27
  },
  {
   "metadata": {
    "ExecuteTime": {
     "end_time": "2025-06-20T14:13:59.646690Z",
     "start_time": "2025-06-20T13:15:05.820950Z"
    }
   },
   "cell_type": "code",
   "source": [
    "spec[\"emitter\"] = emitter_from_wires({\n",
    "        \"global_time\": [\"global_time\"],\n",
    "        'compartments': [\"Compartments\"],\n",
    "    })"
   ],
   "id": "e9e78016ea0545da",
   "outputs": [],
   "execution_count": 28
  },
  {
   "metadata": {
    "ExecuteTime": {
     "end_time": "2025-06-20T14:13:59.646764Z",
     "start_time": "2025-06-20T13:15:05.826025Z"
    }
   },
   "cell_type": "code",
   "source": [
    "core = ProcessTypes()\n",
    "core = register_types(core)\n",
    "core = register_types2(core)"
   ],
   "id": "9865e0ab71d8dba4",
   "outputs": [],
   "execution_count": 29
  },
  {
   "metadata": {
    "ExecuteTime": {
     "end_time": "2025-06-20T14:13:59.646842Z",
     "start_time": "2025-06-20T13:15:05.837945Z"
    }
   },
   "cell_type": "code",
   "source": [
    "sim = Composite(\n",
    "        {\n",
    "            \"state\": spec,\n",
    "        },\n",
    "        core=core\n",
    "    )"
   ],
   "id": "bc929eaacdf499e4",
   "outputs": [],
   "execution_count": 30
  },
  {
   "metadata": {
    "ExecuteTime": {
     "end_time": "2025-06-20T14:13:59.646909Z",
     "start_time": "2025-06-20T13:15:59.385138Z"
    }
   },
   "cell_type": "code",
   "source": [
    "sim.run(20)\n",
    "results = gather_emitter_results(sim)[(\"emitter\",)]"
   ],
   "id": "5c87982c57a4fabf",
   "outputs": [],
   "execution_count": 31
  },
  {
   "metadata": {
    "ExecuteTime": {
     "end_time": "2025-06-20T14:13:59.646956Z",
     "start_time": "2025-06-20T14:06:15.530252Z"
    }
   },
   "cell_type": "code",
   "source": [
    "x_positions = [results[0][\"compartments\"][compartment][\"position\"][0] for compartment in results[0][\"compartments\"].keys()]\n",
    "lactose_conc = [results[20][\"compartments\"][compartment][\"Shared Environment\"][\"concentrations\"][\"Lactose C12H22O11\"] for compartment in results[0][\"compartments\"].keys()]"
   ],
   "id": "bfdc3478fb64fcb8",
   "outputs": [],
   "execution_count": 45
  },
  {
   "metadata": {
    "ExecuteTime": {
     "end_time": "2025-06-20T14:13:59.649936Z",
     "start_time": "2025-06-20T14:06:15.915187Z"
    }
   },
   "cell_type": "code",
   "source": [
    "fig, ax = plt.subplots()\n",
    "ax.plot(x_positions, lactose_conc)"
   ],
   "id": "3ac4d7329698d8d0",
   "outputs": [
    {
     "data": {
      "text/plain": [
       "[<matplotlib.lines.Line2D at 0x16964b200>]"
      ]
     },
     "execution_count": 46,
     "metadata": {},
     "output_type": "execute_result"
    },
    {
     "data": {
      "text/plain": [
       "<Figure size 640x480 with 1 Axes>"
      ],
      "image/png": "[encoded data removed]"
     },
     "metadata": {},
     "output_type": "display_data"
    }
   ],
   "execution_count": 46
  },
  {
   "metadata": {
    "ExecuteTime": {
     "end_time": "2025-06-20T14:13:59.650260Z",
     "start_time": "2025-06-20T14:06:04.463027Z"
    }
   },
   "cell_type": "code",
   "source": "len(results)",
   "id": "47bd3fd7e0c3f284",
   "outputs": [
    {
     "data": {
      "text/plain": [
       "200"
      ]
     },
     "execution_count": 44,
     "metadata": {},
     "output_type": "execute_result"
    }
   ],
   "execution_count": 44
  },
  {
   "metadata": {},
   "cell_type": "code",
   "outputs": [],
   "execution_count": null,
   "source": "",
   "id": "9c4ca9a6d0a8a918"
  }
 ],
 "metadata": {
  "kernelspec": {
   "display_name": "Python 3",
   "language": "python",
   "name": "python3"
  },
  "language_info": {
   "codemirror_mode": {
    "name": "ipython",
    "version": 2
   },
   "file_extension": ".py",
   "mimetype": "text/x-python",
   "name": "python",
   "nbconvert_exporter": "python",
   "pygments_lexer": "ipython2",
   "version": "2.7.6"
  }
 },
 "nbformat": 4,
 "nbformat_minor": 5
}

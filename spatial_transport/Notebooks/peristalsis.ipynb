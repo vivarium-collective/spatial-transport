{
 "cells": [
  {
   "cell_type": "code",
   "id": "initial_id",
   "metadata": {
    "collapsed": true,
    "ExecuteTime": {
     "end_time": "2025-06-19T12:43:00.152593Z",
     "start_time": "2025-06-19T12:42:58.378885Z"
    }
   },
   "source": [
    "import random\n",
    "from pprint import pprint\n",
    "\n",
    "from process_bigraph import Composite, ProcessTypes\n",
    "from process_bigraph.emitter import emitter_from_wires, gather_emitter_results\n",
    "\n",
    "from cdFBA import register_types\n",
    "from cdFBA.utils import get_substrates, make_cdfba_composite\n",
    "\n",
    "from spatial_transport.processes.diffusion import get_simple_diffusion_spec\n",
    "from spatial_transport.processes.advection import get_simple_advection_spec\n",
    "from spatial_transport import register_types as register_types2\n",
    "from spatial_transport.utils import generate_voxels, generate_shared_environment, get_regular_edges"
   ],
   "outputs": [
    {
     "name": "stderr",
     "output_type": "stream",
     "text": [
      "<unknown>:1: SyntaxWarning: invalid escape sequence '\\s'\n"
     ]
    }
   ],
   "execution_count": 1
  },
  {
   "metadata": {
    "ExecuteTime": {
     "end_time": "2025-06-19T12:43:00.157249Z",
     "start_time": "2025-06-19T12:43:00.155631Z"
    }
   },
   "cell_type": "code",
   "source": [
    "# # #Load E. coli model\n",
    "# E_no_galE = cobra.io.load_model(\"iAF1260\")\n",
    "# # #Copy model\n",
    "# E_no_LCTStex = E_no_galE.copy()\n",
    "# # #Knock out galactose metabolism\n",
    "# E_no_galE.genes.b0759.knock_out() # cannot metabolize galactose\n",
    "# # #Knock out Lactose transport reaction LCTStex\n",
    "# E_no_LCTStex.reactions.LCTStex.knock_out() # cannot uptake lactose\n",
    "#\n",
    "# #save models in SBML format\n",
    "# write_sbml_model(E_no_galE, \"E_no_galE.xml\")\n",
    "# write_sbml_model(E_no_LCTStex, \"E_no_LCTStex.xml\")"
   ],
   "id": "e34f95e3015d2ae9",
   "outputs": [],
   "execution_count": 2
  },
  {
   "metadata": {
    "ExecuteTime": {
     "end_time": "2025-06-19T12:43:01.466940Z",
     "start_time": "2025-06-19T12:43:00.278774Z"
    }
   },
   "cell_type": "code",
   "source": [
    "exchanges = ['EX_lcts_e', 'EX_gal_e']\n",
    "all_species = ['EX_lcts_e', 'EX_gal_e', 'deltaGal', 'deltaLac']\n",
    "substrates = get_substrates(model_file=\"iAF1260\", exchanges=exchanges)"
   ],
   "id": "4bd04e17171ac2b6",
   "outputs": [],
   "execution_count": 3
  },
  {
   "metadata": {
    "ExecuteTime": {
     "end_time": "2025-06-19T12:43:01.475251Z",
     "start_time": "2025-06-19T12:43:01.473695Z"
    }
   },
   "cell_type": "code",
   "source": [
    "model_dict = {\n",
    "    'deltaGal':'E_no_galE.xml',\n",
    "    'deltaLac':'E_no_LCTStex.xml'\n",
    "}"
   ],
   "id": "ad5b2ca7deef7a19",
   "outputs": [],
   "execution_count": 4
  },
  {
   "metadata": {
    "ExecuteTime": {
     "end_time": "2025-06-19T12:43:01.480207Z",
     "start_time": "2025-06-19T12:43:01.478534Z"
    }
   },
   "cell_type": "code",
   "source": [
    "voxels = generate_voxels([20,1,0], spacing=1)\n",
    "edges = get_regular_edges(voxels, periodic=False, spacing=1)"
   ],
   "id": "372ef9bedaa0b2f9",
   "outputs": [],
   "execution_count": 5
  },
  {
   "metadata": {
    "ExecuteTime": {
     "end_time": "2025-06-19T12:43:01.486057Z",
     "start_time": "2025-06-19T12:43:01.483768Z"
    }
   },
   "cell_type": "code",
   "source": [
    "def generate_simple_cdfba_composite(voxels, model_dict, exchanges, volume):\n",
    "    substrates = []\n",
    "    species_list = [species for species in model_dict.keys()]\n",
    "    for species, model in model_dict.items():\n",
    "        substrates += get_substrates(model_file=model, exchanges=exchanges)\n",
    "    base_spec = make_cdfba_composite(model_dict=model_dict, exchanges=exchanges, volume=volume, interval=0.1)\n",
    "    for id in voxels:\n",
    "        spec = base_spec.copy()\n",
    "        shared_environment = generate_shared_environment(volume=1, substrates=substrates, species=species_list)\n",
    "        spec[\"Shared Environment\"] = shared_environment\n",
    "        voxels[id].update(spec)\n",
    "    return voxels"
   ],
   "id": "bc5e042c071ded13",
   "outputs": [],
   "execution_count": 6
  },
  {
   "metadata": {
    "ExecuteTime": {
     "end_time": "2025-06-19T12:43:08.724552Z",
     "start_time": "2025-06-19T12:43:01.489658Z"
    }
   },
   "cell_type": "code",
   "source": "compartments = generate_simple_cdfba_composite(voxels, model_dict, exchanges, 1)",
   "id": "7f370162a7c2e1d4",
   "outputs": [],
   "execution_count": 7
  },
  {
   "metadata": {
    "ExecuteTime": {
     "end_time": "2025-06-19T12:43:08.730351Z",
     "start_time": "2025-06-19T12:43:08.728891Z"
    }
   },
   "cell_type": "code",
   "source": "spec = {\"Compartments\": compartments, \"Edges\": edges}",
   "id": "e8f0a3a047122d33",
   "outputs": [],
   "execution_count": 8
  },
  {
   "metadata": {
    "ExecuteTime": {
     "end_time": "2025-06-19T12:43:08.739312Z",
     "start_time": "2025-06-19T12:43:08.737765Z"
    }
   },
   "cell_type": "code",
   "source": [
    "for species in model_dict.keys():\n",
    "    substrates.append(species)"
   ],
   "id": "b9b77787aaad334e",
   "outputs": [],
   "execution_count": 9
  },
  {
   "metadata": {
    "ExecuteTime": {
     "end_time": "2025-06-19T12:43:08.744090Z",
     "start_time": "2025-06-19T12:43:08.742642Z"
    }
   },
   "cell_type": "code",
   "source": [
    "substrates_dict = {\n",
    "    \"Lactose C12H22O11\": 0.03,\n",
    "    \"D-Galactose\": 0.06,\n",
    "    \"deltaGal\": 0.001,\n",
    "    \"deltaLac\": 0.001\n",
    "}"
   ],
   "id": "5f6fc53c16953d5a",
   "outputs": [],
   "execution_count": 10
  },
  {
   "metadata": {
    "ExecuteTime": {
     "end_time": "2025-06-19T12:43:08.752860Z",
     "start_time": "2025-06-19T12:43:08.751246Z"
    }
   },
   "cell_type": "code",
   "source": "spec[\"Simple Diffusion\"] = get_simple_diffusion_spec(substrates=substrates_dict, interval = 0.1)",
   "id": "e9b424762eccabc",
   "outputs": [],
   "execution_count": 11
  },
  {
   "metadata": {
    "ExecuteTime": {
     "end_time": "2025-06-19T12:43:08.756506Z",
     "start_time": "2025-06-19T12:43:08.755028Z"
    }
   },
   "cell_type": "code",
   "source": "spec[\"Simple Advection\"] = get_simple_advection_spec(spacing=1, substrates=substrates, advection=[0, 0.5, 0], boundary=\"default\", interval=0.1)",
   "id": "550290f9debebae2",
   "outputs": [],
   "execution_count": 12
  },
  {
   "metadata": {
    "ExecuteTime": {
     "end_time": "2025-06-19T12:43:08.761508Z",
     "start_time": "2025-06-19T12:43:08.760193Z"
    }
   },
   "cell_type": "code",
   "source": [
    "spec[\"emitter\"] = emitter_from_wires({\n",
    "        \"global_time\": [\"global_time\"],\n",
    "        'compartments': [\"Compartments\", \"..\", \"Shared Environment\"],\n",
    "    })"
   ],
   "id": "e9e78016ea0545da",
   "outputs": [],
   "execution_count": 13
  },
  {
   "metadata": {
    "ExecuteTime": {
     "end_time": "2025-06-19T12:43:08.772870Z",
     "start_time": "2025-06-19T12:43:08.765152Z"
    }
   },
   "cell_type": "code",
   "source": [
    "core = ProcessTypes()\n",
    "core = register_types(core)\n",
    "core = register_types2(core)"
   ],
   "id": "9865e0ab71d8dba4",
   "outputs": [],
   "execution_count": 14
  },
  {
   "metadata": {
    "ExecuteTime": {
     "end_time": "2025-06-19T12:43:58.536166Z",
     "start_time": "2025-06-19T12:43:08.776620Z"
    }
   },
   "cell_type": "code",
   "source": [
    "sim = Composite(\n",
    "        {\n",
    "            \"state\": spec,\n",
    "        },\n",
    "        core=core\n",
    "    )"
   ],
   "id": "bc929eaacdf499e4",
   "outputs": [],
   "execution_count": 15
  },
  {
   "metadata": {
    "ExecuteTime": {
     "end_time": "2025-06-19T12:45:23.067526Z",
     "start_time": "2025-06-19T12:43:58.540973Z"
    }
   },
   "cell_type": "code",
   "source": [
    "sim.run(20)\n",
    "results = gather_emitter_results(sim)[(\"emitter\",)]"
   ],
   "id": "5c87982c57a4fabf",
   "outputs": [],
   "execution_count": 16
  },
  {
   "metadata": {
    "ExecuteTime": {
     "end_time": "2025-06-19T12:45:23.081246Z",
     "start_time": "2025-06-19T12:45:23.080059Z"
    }
   },
   "cell_type": "code",
   "source": "",
   "id": "4b43000398362133",
   "outputs": [],
   "execution_count": null
  }
 ],
 "metadata": {
  "kernelspec": {
   "display_name": "Python 3",
   "language": "python",
   "name": "python3"
  },
  "language_info": {
   "codemirror_mode": {
    "name": "ipython",
    "version": 2
   },
   "file_extension": ".py",
   "mimetype": "text/x-python",
   "name": "python",
   "nbconvert_exporter": "python",
   "pygments_lexer": "ipython2",
   "version": "2.7.6"
  }
 },
 "nbformat": 4,
 "nbformat_minor": 5
}

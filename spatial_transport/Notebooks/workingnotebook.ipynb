{
 "cells": [
  {
   "cell_type": "code",
   "id": "initial_id",
   "metadata": {
    "collapsed": true,
    "ExecuteTime": {
     "end_time": "2025-05-14T14:39:46.998119Z",
     "start_time": "2025-05-14T14:39:46.995304Z"
    }
   },
   "source": [
    "from pprint import pprint\n",
    "from spatial_transport import register_processes\n",
    "from spatial_transport.utils import get_regular_edges, generate_compartments, generate_shared_environments, COMPARTMENTS, plot_concentrations_2d\n",
    "from process_bigraph import Process, Step, Composite, ProcessTypes\n",
    "from process_bigraph.emitter import gather_emitter_results\n",
    "import numpy as np"
   ],
   "outputs": [],
   "execution_count": 11
  },
  {
   "metadata": {
    "ExecuteTime": {
     "end_time": "2025-05-14T14:39:47.004152Z",
     "start_time": "2025-05-14T14:39:47.001945Z"
    }
   },
   "cell_type": "code",
   "source": [
    "spacing = 2\n",
    "compartments = generate_compartments(dims=[3, 3, 0], spacing=spacing)\n",
    "edges = get_regular_edges(compartments, spacing=spacing)\n",
    "compartments = generate_shared_environments(compartments, spacing=spacing, substrates=['glucose', 'acetate', 'biomass'])"
   ],
   "id": "3c0ac5c906a5e1c5",
   "outputs": [],
   "execution_count": 12
  },
  {
   "metadata": {
    "ExecuteTime": {
     "end_time": "2025-05-14T14:39:47.013243Z",
     "start_time": "2025-05-14T14:39:47.009503Z"
    }
   },
   "cell_type": "code",
   "source": "pprint(compartments)",
   "id": "f7e45dc0a4b73536",
   "outputs": [
    {
     "name": "stdout",
     "output_type": "stream",
     "text": [
      "{'0': {'Shared Environment': {'concentrations': {'acetate': 0.5559583884925855,\n",
      "                                                 'biomass': 0.04354394461746097,\n",
      "                                                 'glucose': 0.9542156974811664},\n",
      "                              'counts': {'acetate': 4.447667107940684,\n",
      "                                         'biomass': 0.3483515569396878,\n",
      "                                         'glucose': 7.633725579849331},\n",
      "                              'volume': 8},\n",
      "       'position': [1.0, 1.0, 0.0]},\n",
      " '1': {'Shared Environment': {'concentrations': {'acetate': 0.6379649320270487,\n",
      "                                                 'biomass': 0.40771013995424654,\n",
      "                                                 'glucose': 0.2753922584735316},\n",
      "                              'counts': {'acetate': 5.10371945621639,\n",
      "                                         'biomass': 3.2616811196339723,\n",
      "                                         'glucose': 2.203138067788253},\n",
      "                              'volume': 8},\n",
      "       'position': [1.0, 3.0, 0.0]},\n",
      " '2': {'Shared Environment': {'concentrations': {'acetate': 1.0833136945819892,\n",
      "                                                 'biomass': 0.17048693970479784,\n",
      "                                                 'glucose': 0.43512039345727505},\n",
      "                              'counts': {'acetate': 8.666509556655914,\n",
      "                                         'biomass': 1.3638955176383827,\n",
      "                                         'glucose': 3.4809631476582004},\n",
      "                              'volume': 8},\n",
      "       'position': [1.0, 5.0, 0.0]},\n",
      " '3': {'Shared Environment': {'concentrations': {'acetate': 1.0107257622443444,\n",
      "                                                 'biomass': 0.542851484980277,\n",
      "                                                 'glucose': 0.774518390204768},\n",
      "                              'counts': {'acetate': 8.085806097954755,\n",
      "                                         'biomass': 4.342811879842216,\n",
      "                                         'glucose': 6.196147121638144},\n",
      "                              'volume': 8},\n",
      "       'position': [3.0, 1.0, 0.0]},\n",
      " '4': {'Shared Environment': {'concentrations': {'acetate': 0.6503912879409997,\n",
      "                                                 'biomass': 0.1679998766964319,\n",
      "                                                 'glucose': 0.2742217522884463},\n",
      "                              'counts': {'acetate': 5.203130303527997,\n",
      "                                         'biomass': 1.3439990135714552,\n",
      "                                         'glucose': 2.1937740183075705},\n",
      "                              'volume': 8},\n",
      "       'position': [3.0, 3.0, 0.0]},\n",
      " '5': {'Shared Environment': {'concentrations': {'acetate': 0.4143510185387414,\n",
      "                                                 'biomass': 1.1489258638029738,\n",
      "                                                 'glucose': 0.6147246546596887},\n",
      "                              'counts': {'acetate': 3.314808148309931,\n",
      "                                         'biomass': 9.19140691042379,\n",
      "                                         'glucose': 4.91779723727751},\n",
      "                              'volume': 8},\n",
      "       'position': [3.0, 5.0, 0.0]},\n",
      " '6': {'Shared Environment': {'concentrations': {'acetate': 0.12374156067106082,\n",
      "                                                 'biomass': 0.6285399187481683,\n",
      "                                                 'glucose': 0.13423488854892182},\n",
      "                              'counts': {'acetate': 0.9899324853684865,\n",
      "                                         'biomass': 5.028319349985346,\n",
      "                                         'glucose': 1.0738791083913746},\n",
      "                              'volume': 8},\n",
      "       'position': [5.0, 1.0, 0.0]},\n",
      " '7': {'Shared Environment': {'concentrations': {'acetate': 0.29782184751992014,\n",
      "                                                 'biomass': 0.4781056731692719,\n",
      "                                                 'glucose': 0.3188309712450178},\n",
      "                              'counts': {'acetate': 2.382574780159361,\n",
      "                                         'biomass': 3.824845385354175,\n",
      "                                         'glucose': 2.5506477699601424},\n",
      "                              'volume': 8},\n",
      "       'position': [5.0, 3.0, 0.0]},\n",
      " '8': {'Shared Environment': {'concentrations': {'acetate': 0.7578599372452985,\n",
      "                                                 'biomass': 0.7486701892964813,\n",
      "                                                 'glucose': 0.5028514635192626},\n",
      "                              'counts': {'acetate': 6.062879497962388,\n",
      "                                         'biomass': 5.989361514371851,\n",
      "                                         'glucose': 4.022811708154101},\n",
      "                              'volume': 8},\n",
      "       'position': [5.0, 5.0, 0.0]}}\n"
     ]
    }
   ],
   "execution_count": 13
  },
  {
   "metadata": {
    "ExecuteTime": {
     "end_time": "2025-05-14T14:39:47.019770Z",
     "start_time": "2025-05-14T14:39:47.017950Z"
    }
   },
   "cell_type": "code",
   "source": [
    "field = {\n",
    "    COMPARTMENTS: compartments,\n",
    "    \"Edges\": edges,\n",
    "}"
   ],
   "id": "c1ef12f056ace6f",
   "outputs": [],
   "execution_count": 14
  },
  {
   "metadata": {
    "ExecuteTime": {
     "end_time": "2025-05-14T14:39:47.084175Z",
     "start_time": "2025-05-14T14:39:47.080273Z"
    }
   },
   "cell_type": "code",
   "source": "pprint(field)",
   "id": "9f647ab98c6284ea",
   "outputs": [
    {
     "name": "stdout",
     "output_type": "stream",
     "text": [
      "{'Compartments': {'0': {'Shared Environment': {'concentrations': {'acetate': 0.5559583884925855,\n",
      "                                                                  'biomass': 0.04354394461746097,\n",
      "                                                                  'glucose': 0.9542156974811664},\n",
      "                                               'counts': {'acetate': 4.447667107940684,\n",
      "                                                          'biomass': 0.3483515569396878,\n",
      "                                                          'glucose': 7.633725579849331},\n",
      "                                               'volume': 8},\n",
      "                        'position': [1.0, 1.0, 0.0]},\n",
      "                  '1': {'Shared Environment': {'concentrations': {'acetate': 0.6379649320270487,\n",
      "                                                                  'biomass': 0.40771013995424654,\n",
      "                                                                  'glucose': 0.2753922584735316},\n",
      "                                               'counts': {'acetate': 5.10371945621639,\n",
      "                                                          'biomass': 3.2616811196339723,\n",
      "                                                          'glucose': 2.203138067788253},\n",
      "                                               'volume': 8},\n",
      "                        'position': [1.0, 3.0, 0.0]},\n",
      "                  '2': {'Shared Environment': {'concentrations': {'acetate': 1.0833136945819892,\n",
      "                                                                  'biomass': 0.17048693970479784,\n",
      "                                                                  'glucose': 0.43512039345727505},\n",
      "                                               'counts': {'acetate': 8.666509556655914,\n",
      "                                                          'biomass': 1.3638955176383827,\n",
      "                                                          'glucose': 3.4809631476582004},\n",
      "                                               'volume': 8},\n",
      "                        'position': [1.0, 5.0, 0.0]},\n",
      "                  '3': {'Shared Environment': {'concentrations': {'acetate': 1.0107257622443444,\n",
      "                                                                  'biomass': 0.542851484980277,\n",
      "                                                                  'glucose': 0.774518390204768},\n",
      "                                               'counts': {'acetate': 8.085806097954755,\n",
      "                                                          'biomass': 4.342811879842216,\n",
      "                                                          'glucose': 6.196147121638144},\n",
      "                                               'volume': 8},\n",
      "                        'position': [3.0, 1.0, 0.0]},\n",
      "                  '4': {'Shared Environment': {'concentrations': {'acetate': 0.6503912879409997,\n",
      "                                                                  'biomass': 0.1679998766964319,\n",
      "                                                                  'glucose': 0.2742217522884463},\n",
      "                                               'counts': {'acetate': 5.203130303527997,\n",
      "                                                          'biomass': 1.3439990135714552,\n",
      "                                                          'glucose': 2.1937740183075705},\n",
      "                                               'volume': 8},\n",
      "                        'position': [3.0, 3.0, 0.0]},\n",
      "                  '5': {'Shared Environment': {'concentrations': {'acetate': 0.4143510185387414,\n",
      "                                                                  'biomass': 1.1489258638029738,\n",
      "                                                                  'glucose': 0.6147246546596887},\n",
      "                                               'counts': {'acetate': 3.314808148309931,\n",
      "                                                          'biomass': 9.19140691042379,\n",
      "                                                          'glucose': 4.91779723727751},\n",
      "                                               'volume': 8},\n",
      "                        'position': [3.0, 5.0, 0.0]},\n",
      "                  '6': {'Shared Environment': {'concentrations': {'acetate': 0.12374156067106082,\n",
      "                                                                  'biomass': 0.6285399187481683,\n",
      "                                                                  'glucose': 0.13423488854892182},\n",
      "                                               'counts': {'acetate': 0.9899324853684865,\n",
      "                                                          'biomass': 5.028319349985346,\n",
      "                                                          'glucose': 1.0738791083913746},\n",
      "                                               'volume': 8},\n",
      "                        'position': [5.0, 1.0, 0.0]},\n",
      "                  '7': {'Shared Environment': {'concentrations': {'acetate': 0.29782184751992014,\n",
      "                                                                  'biomass': 0.4781056731692719,\n",
      "                                                                  'glucose': 0.3188309712450178},\n",
      "                                               'counts': {'acetate': 2.382574780159361,\n",
      "                                                          'biomass': 3.824845385354175,\n",
      "                                                          'glucose': 2.5506477699601424},\n",
      "                                               'volume': 8},\n",
      "                        'position': [5.0, 3.0, 0.0]},\n",
      "                  '8': {'Shared Environment': {'concentrations': {'acetate': 0.7578599372452985,\n",
      "                                                                  'biomass': 0.7486701892964813,\n",
      "                                                                  'glucose': 0.5028514635192626},\n",
      "                                               'counts': {'acetate': 6.062879497962388,\n",
      "                                                          'biomass': 5.989361514371851,\n",
      "                                                          'glucose': 4.022811708154101},\n",
      "                                               'volume': 8},\n",
      "                        'position': [5.0, 5.0, 0.0]}},\n",
      " 'Edges': [{'1': {'neighbors': ('0', '3'), 'surface_area': 4}},\n",
      "           {'2': {'neighbors': ('0', '1'), 'surface_area': 4}},\n",
      "           {'3': {'neighbors': ('1', '4'), 'surface_area': 4}},\n",
      "           {'4': {'neighbors': ('1', '2'), 'surface_area': 4}},\n",
      "           {'5': {'neighbors': ('2', '5'), 'surface_area': 4}},\n",
      "           {'6': {'neighbors': ('3', '6'), 'surface_area': 4}},\n",
      "           {'7': {'neighbors': ('3', '4'), 'surface_area': 4}},\n",
      "           {'8': {'neighbors': ('4', '7'), 'surface_area': 4}},\n",
      "           {'9': {'neighbors': ('4', '5'), 'surface_area': 4}},\n",
      "           {'10': {'neighbors': ('5', '8'), 'surface_area': 4}},\n",
      "           {'11': {'neighbors': ('6', '7'), 'surface_area': 4}},\n",
      "           {'12': {'neighbors': ('7', '8'), 'surface_area': 4}}]}\n"
     ]
    }
   ],
   "execution_count": 15
  },
  {
   "metadata": {},
   "cell_type": "code",
   "outputs": [],
   "execution_count": null,
   "source": [
    "class SimpleDiffusion(Process):\n",
    "    \"\"\"Simple diffusion between compartments\"\"\"\n",
    "    config_schema = {\n",
    "        \"spacing\": \"float\",\n",
    "        \"substrates\": \"map[float]\",\n",
    "    }\n",
    "\n",
    "    def __init__(self, config, core):\n",
    "        super.__init__(config, core)\n",
    "\n",
    "        self.substrates = config['substrates']\n",
    "\n",
    "    def inputs(self):\n",
    "        return {\n",
    "            \"compartments\": \"compartments\",\n",
    "            \"edges\": \"map[edge]\",\n",
    "        }\n",
    "\n",
    "    def outputs(self):\n",
    "        return {\n",
    "            compartments: \"any\"\n",
    "        }\n",
    "\n",
    "    def update(self, inputs, interval):\n",
    "        edges = inputs['edges']\n",
    "        compartments = inputs['compartments']\n",
    "\n",
    "        update = {\n",
    "            'Compartments': {\n",
    "                compartment_id: {\n",
    "                    'Shared Environment': compartments[compartment_id]['Shared Environment'],\n",
    "                }\n",
    "            }\n",
    "        for compartment_id in compartments.keys()}\n",
    "\n",
    "        for edge in edges:\n",
    "            compartment1 = compartments[edge[0]]\n",
    "            compartment2 = compartments[edge[1]]\n",
    "            conc1 = compartments[compartment1]['Shared Environment']['concentrations']\n",
    "            conc2 = compartments[compartment2]['Shared Environment']['concentrations']\n",
    "            for substrate in self.substrates.keys():\n",
    "                concentration1 = conc1[substrate]\n",
    "                concentration2 = conc2[substrate]\n",
    "                diffusivity = self.substrates[substrate]\n",
    "\n",
    "                d_conc = -diffusivity * (concentration2 - concentration1)\n",
    "\n",
    "\n",
    "\n",
    "\n"
   ],
   "id": "63f32a656257a4a2"
  },
  {
   "metadata": {
    "ExecuteTime": {
     "end_time": "2025-05-13T16:59:23.307848Z",
     "start_time": "2025-05-13T16:59:23.305739Z"
    }
   },
   "cell_type": "code",
   "source": "number = list(np.arange(0, 10, 0.5))",
   "id": "413b2b275fd03f83",
   "outputs": [],
   "execution_count": 21
  },
  {
   "metadata": {
    "ExecuteTime": {
     "end_time": "2025-05-13T16:59:23.973803Z",
     "start_time": "2025-05-13T16:59:23.970455Z"
    }
   },
   "cell_type": "code",
   "source": "number",
   "id": "acb719630274b16",
   "outputs": [
    {
     "data": {
      "text/plain": [
       "[np.float64(0.0),\n",
       " np.float64(0.5),\n",
       " np.float64(1.0),\n",
       " np.float64(1.5),\n",
       " np.float64(2.0),\n",
       " np.float64(2.5),\n",
       " np.float64(3.0),\n",
       " np.float64(3.5),\n",
       " np.float64(4.0),\n",
       " np.float64(4.5),\n",
       " np.float64(5.0),\n",
       " np.float64(5.5),\n",
       " np.float64(6.0),\n",
       " np.float64(6.5),\n",
       " np.float64(7.0),\n",
       " np.float64(7.5),\n",
       " np.float64(8.0),\n",
       " np.float64(8.5),\n",
       " np.float64(9.0),\n",
       " np.float64(9.5)]"
      ]
     },
     "execution_count": 22,
     "metadata": {},
     "output_type": "execute_result"
    }
   ],
   "execution_count": 22
  },
  {
   "metadata": {
    "ExecuteTime": {
     "end_time": "2025-05-13T16:57:52.236451Z",
     "start_time": "2025-05-13T16:57:52.234424Z"
    }
   },
   "cell_type": "code",
   "source": "float(number)",
   "id": "7dd1595af346b195",
   "outputs": [
    {
     "data": {
      "text/plain": [
       "5.0"
      ]
     },
     "execution_count": 16,
     "metadata": {},
     "output_type": "execute_result"
    }
   ],
   "execution_count": 16
  },
  {
   "metadata": {
    "ExecuteTime": {
     "end_time": "2025-05-14T17:36:21.474788Z",
     "start_time": "2025-05-14T17:36:21.471377Z"
    }
   },
   "cell_type": "code",
   "source": "pprint(compartments)",
   "id": "4d04b6a99986da29",
   "outputs": [
    {
     "name": "stdout",
     "output_type": "stream",
     "text": [
      "{'0': {'Shared Environment': {'concentrations': {'acetate': 0.5559583884925855,\n",
      "                                                 'biomass': 0.04354394461746097,\n",
      "                                                 'glucose': 0.9542156974811664},\n",
      "                              'counts': {'acetate': 4.447667107940684,\n",
      "                                         'biomass': 0.3483515569396878,\n",
      "                                         'glucose': 7.633725579849331},\n",
      "                              'volume': 8},\n",
      "       'position': [1.0, 1.0, 0.0]},\n",
      " '1': {'Shared Environment': {'concentrations': {'acetate': 0.6379649320270487,\n",
      "                                                 'biomass': 0.40771013995424654,\n",
      "                                                 'glucose': 0.2753922584735316},\n",
      "                              'counts': {'acetate': 5.10371945621639,\n",
      "                                         'biomass': 3.2616811196339723,\n",
      "                                         'glucose': 2.203138067788253},\n",
      "                              'volume': 8},\n",
      "       'position': [1.0, 3.0, 0.0]},\n",
      " '2': {'Shared Environment': {'concentrations': {'acetate': 1.0833136945819892,\n",
      "                                                 'biomass': 0.17048693970479784,\n",
      "                                                 'glucose': 0.43512039345727505},\n",
      "                              'counts': {'acetate': 8.666509556655914,\n",
      "                                         'biomass': 1.3638955176383827,\n",
      "                                         'glucose': 3.4809631476582004},\n",
      "                              'volume': 8},\n",
      "       'position': [1.0, 5.0, 0.0]},\n",
      " '3': {'Shared Environment': {'concentrations': {'acetate': 1.0107257622443444,\n",
      "                                                 'biomass': 0.542851484980277,\n",
      "                                                 'glucose': 0.774518390204768},\n",
      "                              'counts': {'acetate': 8.085806097954755,\n",
      "                                         'biomass': 4.342811879842216,\n",
      "                                         'glucose': 6.196147121638144},\n",
      "                              'volume': 8},\n",
      "       'position': [3.0, 1.0, 0.0]},\n",
      " '4': {'Shared Environment': {'concentrations': {'acetate': 0.6503912879409997,\n",
      "                                                 'biomass': 0.1679998766964319,\n",
      "                                                 'glucose': 0.2742217522884463},\n",
      "                              'counts': {'acetate': 5.203130303527997,\n",
      "                                         'biomass': 1.3439990135714552,\n",
      "                                         'glucose': 2.1937740183075705},\n",
      "                              'volume': 8},\n",
      "       'position': [3.0, 3.0, 0.0]},\n",
      " '5': {'Shared Environment': {'concentrations': {'acetate': 0.4143510185387414,\n",
      "                                                 'biomass': 1.1489258638029738,\n",
      "                                                 'glucose': 0.6147246546596887},\n",
      "                              'counts': {'acetate': 3.314808148309931,\n",
      "                                         'biomass': 9.19140691042379,\n",
      "                                         'glucose': 4.91779723727751},\n",
      "                              'volume': 8},\n",
      "       'position': [3.0, 5.0, 0.0]},\n",
      " '6': {'Shared Environment': {'concentrations': {'acetate': 0.12374156067106082,\n",
      "                                                 'biomass': 0.6285399187481683,\n",
      "                                                 'glucose': 0.13423488854892182},\n",
      "                              'counts': {'acetate': 0.9899324853684865,\n",
      "                                         'biomass': 5.028319349985346,\n",
      "                                         'glucose': 1.0738791083913746},\n",
      "                              'volume': 8},\n",
      "       'position': [5.0, 1.0, 0.0]},\n",
      " '7': {'Shared Environment': {'concentrations': {'acetate': 0.29782184751992014,\n",
      "                                                 'biomass': 0.4781056731692719,\n",
      "                                                 'glucose': 0.3188309712450178},\n",
      "                              'counts': {'acetate': 2.382574780159361,\n",
      "                                         'biomass': 3.824845385354175,\n",
      "                                         'glucose': 2.5506477699601424},\n",
      "                              'volume': 8},\n",
      "       'position': [5.0, 3.0, 0.0]},\n",
      " '8': {'Shared Environment': {'concentrations': {'acetate': 0.7578599372452985,\n",
      "                                                 'biomass': 0.7486701892964813,\n",
      "                                                 'glucose': 0.5028514635192626},\n",
      "                              'counts': {'acetate': 6.062879497962388,\n",
      "                                         'biomass': 5.989361514371851,\n",
      "                                         'glucose': 4.022811708154101},\n",
      "                              'volume': 8},\n",
      "       'position': [5.0, 5.0, 0.0]}}\n"
     ]
    }
   ],
   "execution_count": 17
  },
  {
   "metadata": {
    "ExecuteTime": {
     "end_time": "2025-05-14T18:12:38.328967Z",
     "start_time": "2025-05-14T18:12:38.324339Z"
    }
   },
   "cell_type": "code",
   "source": [
    "update = {\n",
    "            'Compartments': {\n",
    "                compartment_id: {\n",
    "                    'Shared Environment': {\n",
    "                        \"counts\": compartments[compartment_id]['Shared Environment'][\"counts\"]\n",
    "                    },\n",
    "                }\n",
    "            for compartment_id in compartments.keys()}\n",
    "        }"
   ],
   "id": "80a51f7ddd92a897",
   "outputs": [],
   "execution_count": 25
  },
  {
   "metadata": {
    "ExecuteTime": {
     "end_time": "2025-05-14T18:12:39.682379Z",
     "start_time": "2025-05-14T18:12:39.677300Z"
    }
   },
   "cell_type": "code",
   "source": "pprint(update)",
   "id": "5576146770eb819a",
   "outputs": [
    {
     "name": "stdout",
     "output_type": "stream",
     "text": [
      "{'Compartments': {'0': {'Shared Environment': {'counts': {'acetate': 4.447667107940684,\n",
      "                                                          'biomass': 0.3483515569396878,\n",
      "                                                          'glucose': 7.633725579849331}}},\n",
      "                  '1': {'Shared Environment': {'counts': {'acetate': 5.10371945621639,\n",
      "                                                          'biomass': 3.2616811196339723,\n",
      "                                                          'glucose': 2.203138067788253}}},\n",
      "                  '2': {'Shared Environment': {'counts': {'acetate': 8.666509556655914,\n",
      "                                                          'biomass': 1.3638955176383827,\n",
      "                                                          'glucose': 3.4809631476582004}}},\n",
      "                  '3': {'Shared Environment': {'counts': {'acetate': 8.085806097954755,\n",
      "                                                          'biomass': 4.342811879842216,\n",
      "                                                          'glucose': 6.196147121638144}}},\n",
      "                  '4': {'Shared Environment': {'counts': {'acetate': 5.203130303527997,\n",
      "                                                          'biomass': 1.3439990135714552,\n",
      "                                                          'glucose': 2.1937740183075705}}},\n",
      "                  '5': {'Shared Environment': {'counts': {'acetate': 3.314808148309931,\n",
      "                                                          'biomass': 9.19140691042379,\n",
      "                                                          'glucose': 4.91779723727751}}},\n",
      "                  '6': {'Shared Environment': {'counts': {'acetate': 0.9899324853684865,\n",
      "                                                          'biomass': 5.028319349985346,\n",
      "                                                          'glucose': 1.0738791083913746}}},\n",
      "                  '7': {'Shared Environment': {'counts': {'acetate': 2.382574780159361,\n",
      "                                                          'biomass': 3.824845385354175,\n",
      "                                                          'glucose': 2.5506477699601424}}},\n",
      "                  '8': {'Shared Environment': {'counts': {'acetate': 6.062879497962388,\n",
      "                                                          'biomass': 5.989361514371851,\n",
      "                                                          'glucose': 4.022811708154101}}}}}\n"
     ]
    }
   ],
   "execution_count": 26
  },
  {
   "metadata": {
    "ExecuteTime": {
     "end_time": "2025-05-14T19:18:50.303059Z",
     "start_time": "2025-05-14T19:18:50.294738Z"
    }
   },
   "cell_type": "code",
   "source": [
    "update = {\n",
    "    \"counts\": {\n",
    "        \"acetate\": 0.5,\n",
    "        \"biomass\": 0.5,\n",
    "        \"glucose\": 0.5,\n",
    "    }\n",
    "}"
   ],
   "id": "eb64a202983d0387",
   "outputs": [],
   "execution_count": 27
  },
  {
   "metadata": {
    "ExecuteTime": {
     "end_time": "2025-05-14T19:18:55.065932Z",
     "start_time": "2025-05-14T19:18:55.062364Z"
    }
   },
   "cell_type": "code",
   "source": "pprint(update)",
   "id": "6f61a0c044f44ea0",
   "outputs": [
    {
     "name": "stdout",
     "output_type": "stream",
     "text": [
      "{'counts': {'acetate': 0.5, 'biomass': 0.5, 'glucose': 0.5}}\n"
     ]
    }
   ],
   "execution_count": 28
  },
  {
   "metadata": {
    "ExecuteTime": {
     "end_time": "2025-05-15T19:04:33.886519Z",
     "start_time": "2025-05-15T19:04:33.879538Z"
    }
   },
   "cell_type": "code",
   "source": [
    "update = {\n",
    "            compartment_id: {\n",
    "                'counts': {\n",
    "                    substrate: 0 for substrate in [\"glucose\", \"acetate\", \"biomass\"]\n",
    "                },\n",
    "            }\n",
    "        for compartment_id in compartments.keys()}"
   ],
   "id": "48d9e21d1d984952",
   "outputs": [],
   "execution_count": 29
  },
  {
   "metadata": {
    "ExecuteTime": {
     "end_time": "2025-05-15T19:04:38.740142Z",
     "start_time": "2025-05-15T19:04:38.737732Z"
    }
   },
   "cell_type": "code",
   "source": "pprint(update)",
   "id": "6ebe4934ea7ed740",
   "outputs": [
    {
     "name": "stdout",
     "output_type": "stream",
     "text": [
      "{'0': {'counts': {'acetate': 0, 'biomass': 0, 'glucose': 0}},\n",
      " '1': {'counts': {'acetate': 0, 'biomass': 0, 'glucose': 0}},\n",
      " '2': {'counts': {'acetate': 0, 'biomass': 0, 'glucose': 0}},\n",
      " '3': {'counts': {'acetate': 0, 'biomass': 0, 'glucose': 0}},\n",
      " '4': {'counts': {'acetate': 0, 'biomass': 0, 'glucose': 0}},\n",
      " '5': {'counts': {'acetate': 0, 'biomass': 0, 'glucose': 0}},\n",
      " '6': {'counts': {'acetate': 0, 'biomass': 0, 'glucose': 0}},\n",
      " '7': {'counts': {'acetate': 0, 'biomass': 0, 'glucose': 0}},\n",
      " '8': {'counts': {'acetate': 0, 'biomass': 0, 'glucose': 0}}}\n"
     ]
    }
   ],
   "execution_count": 30
  },
  {
   "metadata": {
    "ExecuteTime": {
     "end_time": "2025-05-22T18:44:57.630046Z",
     "start_time": "2025-05-22T18:44:57.495160Z"
    }
   },
   "cell_type": "code",
   "source": [
    "import numpy as np\n",
    "np.array([1,1]) - np.array([2,2])"
   ],
   "id": "bd45f06904f0388f",
   "outputs": [
    {
     "data": {
      "text/plain": [
       "array([-1, -1])"
      ]
     },
     "execution_count": 3,
     "metadata": {},
     "output_type": "execute_result"
    }
   ],
   "execution_count": 3
  },
  {
   "metadata": {},
   "cell_type": "code",
   "outputs": [],
   "execution_count": null,
   "source": "",
   "id": "518b7122a27714b1"
  }
 ],
 "metadata": {
  "kernelspec": {
   "display_name": "Python 3",
   "language": "python",
   "name": "python3"
  },
  "language_info": {
   "codemirror_mode": {
    "name": "ipython",
    "version": 2
   },
   "file_extension": ".py",
   "mimetype": "text/x-python",
   "name": "python",
   "nbconvert_exporter": "python",
   "pygments_lexer": "ipython2",
   "version": "2.7.6"
  }
 },
 "nbformat": 4,
 "nbformat_minor": 5
}

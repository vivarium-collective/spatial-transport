{
 "cells": [
  {
   "cell_type": "code",
   "id": "initial_id",
   "metadata": {
    "collapsed": true,
    "ExecuteTime": {
     "end_time": "2025-05-14T14:39:46.998119Z",
     "start_time": "2025-05-14T14:39:46.995304Z"
    }
   },
   "source": [
    "from pprint import pprint\n",
    "from spatial_transport import register_processes\n",
    "from spatial_transport.utils import get_regular_edges, generate_voxels, generate_shared_environments, COMPARTMENTS, plot_concentrations_2d\n",
    "from process_bigraph import Process, Step, Composite, ProcessTypes\n",
    "from process_bigraph.emitter import gather_emitter_results\n",
    "import numpy as np"
   ],
   "outputs": [],
   "execution_count": 11
  },
  {
   "metadata": {
    "ExecuteTime": {
     "end_time": "2025-05-14T14:39:47.004152Z",
     "start_time": "2025-05-14T14:39:47.001945Z"
    }
   },
   "cell_type": "code",
   "source": [
    "spacing = 2\n",
    "compartments = generate_compartments(dims=[3, 3, 0], spacing=spacing)\n",
    "edges = get_regular_edges(compartments, spacing=spacing)\n",
    "compartments = generate_shared_environments(compartments, spacing=spacing, substrates=['glucose', 'acetate', 'biomass'])"
   ],
   "id": "3c0ac5c906a5e1c5",
   "outputs": [],
   "execution_count": 12
  },
  {
   "metadata": {
    "ExecuteTime": {
     "end_time": "2025-05-14T14:39:47.013243Z",
     "start_time": "2025-05-14T14:39:47.009503Z"
    }
   },
   "cell_type": "code",
   "source": "pprint(compartments)",
   "id": "f7e45dc0a4b73536",
   "outputs": [
    {
     "name": "stdout",
     "output_type": "stream",
     "text": [
      "{'0': {'Shared Environment': {'concentrations': {'acetate': 0.5559583884925855,\n",
      "                                                 'biomass': 0.04354394461746097,\n",
      "                                                 'glucose': 0.9542156974811664},\n",
      "                              'counts': {'acetate': 4.447667107940684,\n",
      "                                         'biomass': 0.3483515569396878,\n",
      "                                         'glucose': 7.633725579849331},\n",
      "                              'volume': 8},\n",
      "       'position': [1.0, 1.0, 0.0]},\n",
      " '1': {'Shared Environment': {'concentrations': {'acetate': 0.6379649320270487,\n",
      "                                                 'biomass': 0.40771013995424654,\n",
      "                                                 'glucose': 0.2753922584735316},\n",
      "                              'counts': {'acetate': 5.10371945621639,\n",
      "                                         'biomass': 3.2616811196339723,\n",
      "                                         'glucose': 2.203138067788253},\n",
      "                              'volume': 8},\n",
      "       'position': [1.0, 3.0, 0.0]},\n",
      " '2': {'Shared Environment': {'concentrations': {'acetate': 1.0833136945819892,\n",
      "                                                 'biomass': 0.17048693970479784,\n",
      "                                                 'glucose': 0.43512039345727505},\n",
      "                              'counts': {'acetate': 8.666509556655914,\n",
      "                                         'biomass': 1.3638955176383827,\n",
      "                                         'glucose': 3.4809631476582004},\n",
      "                              'volume': 8},\n",
      "       'position': [1.0, 5.0, 0.0]},\n",
      " '3': {'Shared Environment': {'concentrations': {'acetate': 1.0107257622443444,\n",
      "                                                 'biomass': 0.542851484980277,\n",
      "                                                 'glucose': 0.774518390204768},\n",
      "                              'counts': {'acetate': 8.085806097954755,\n",
      "                                         'biomass': 4.342811879842216,\n",
      "                                         'glucose': 6.196147121638144},\n",
      "                              'volume': 8},\n",
      "       'position': [3.0, 1.0, 0.0]},\n",
      " '4': {'Shared Environment': {'concentrations': {'acetate': 0.6503912879409997,\n",
      "                                                 'biomass': 0.1679998766964319,\n",
      "                                                 'glucose': 0.2742217522884463},\n",
      "                              'counts': {'acetate': 5.203130303527997,\n",
      "                                         'biomass': 1.3439990135714552,\n",
      "                                         'glucose': 2.1937740183075705},\n",
      "                              'volume': 8},\n",
      "       'position': [3.0, 3.0, 0.0]},\n",
      " '5': {'Shared Environment': {'concentrations': {'acetate': 0.4143510185387414,\n",
      "                                                 'biomass': 1.1489258638029738,\n",
      "                                                 'glucose': 0.6147246546596887},\n",
      "                              'counts': {'acetate': 3.314808148309931,\n",
      "                                         'biomass': 9.19140691042379,\n",
      "                                         'glucose': 4.91779723727751},\n",
      "                              'volume': 8},\n",
      "       'position': [3.0, 5.0, 0.0]},\n",
      " '6': {'Shared Environment': {'concentrations': {'acetate': 0.12374156067106082,\n",
      "                                                 'biomass': 0.6285399187481683,\n",
      "                                                 'glucose': 0.13423488854892182},\n",
      "                              'counts': {'acetate': 0.9899324853684865,\n",
      "                                         'biomass': 5.028319349985346,\n",
      "                                         'glucose': 1.0738791083913746},\n",
      "                              'volume': 8},\n",
      "       'position': [5.0, 1.0, 0.0]},\n",
      " '7': {'Shared Environment': {'concentrations': {'acetate': 0.29782184751992014,\n",
      "                                                 'biomass': 0.4781056731692719,\n",
      "                                                 'glucose': 0.3188309712450178},\n",
      "                              'counts': {'acetate': 2.382574780159361,\n",
      "                                         'biomass': 3.824845385354175,\n",
      "                                         'glucose': 2.5506477699601424},\n",
      "                              'volume': 8},\n",
      "       'position': [5.0, 3.0, 0.0]},\n",
      " '8': {'Shared Environment': {'concentrations': {'acetate': 0.7578599372452985,\n",
      "                                                 'biomass': 0.7486701892964813,\n",
      "                                                 'glucose': 0.5028514635192626},\n",
      "                              'counts': {'acetate': 6.062879497962388,\n",
      "                                         'biomass': 5.989361514371851,\n",
      "                                         'glucose': 4.022811708154101},\n",
      "                              'volume': 8},\n",
      "       'position': [5.0, 5.0, 0.0]}}\n"
     ]
    }
   ],
   "execution_count": 13
  },
  {
   "metadata": {
    "ExecuteTime": {
     "end_time": "2025-05-14T14:39:47.019770Z",
     "start_time": "2025-05-14T14:39:47.017950Z"
    }
   },
   "cell_type": "code",
   "source": [
    "field = {\n",
    "    COMPARTMENTS: compartments,\n",
    "    \"Edges\": edges,\n",
    "}"
   ],
   "id": "c1ef12f056ace6f",
   "outputs": [],
   "execution_count": 14
  },
  {
   "metadata": {
    "ExecuteTime": {
     "end_time": "2025-05-14T14:39:47.084175Z",
     "start_time": "2025-05-14T14:39:47.080273Z"
    }
   },
   "cell_type": "code",
   "source": "pprint(field)",
   "id": "9f647ab98c6284ea",
   "outputs": [
    {
     "name": "stdout",
     "output_type": "stream",
     "text": [
      "{'Compartments': {'0': {'Shared Environment': {'concentrations': {'acetate': 0.5559583884925855,\n",
      "                                                                  'biomass': 0.04354394461746097,\n",
      "                                                                  'glucose': 0.9542156974811664},\n",
      "                                               'counts': {'acetate': 4.447667107940684,\n",
      "                                                          'biomass': 0.3483515569396878,\n",
      "                                                          'glucose': 7.633725579849331},\n",
      "                                               'volume': 8},\n",
      "                        'position': [1.0, 1.0, 0.0]},\n",
      "                  '1': {'Shared Environment': {'concentrations': {'acetate': 0.6379649320270487,\n",
      "                                                                  'biomass': 0.40771013995424654,\n",
      "                                                                  'glucose': 0.2753922584735316},\n",
      "                                               'counts': {'acetate': 5.10371945621639,\n",
      "                                                          'biomass': 3.2616811196339723,\n",
      "                                                          'glucose': 2.203138067788253},\n",
      "                                               'volume': 8},\n",
      "                        'position': [1.0, 3.0, 0.0]},\n",
      "                  '2': {'Shared Environment': {'concentrations': {'acetate': 1.0833136945819892,\n",
      "                                                                  'biomass': 0.17048693970479784,\n",
      "                                                                  'glucose': 0.43512039345727505},\n",
      "                                               'counts': {'acetate': 8.666509556655914,\n",
      "                                                          'biomass': 1.3638955176383827,\n",
      "                                                          'glucose': 3.4809631476582004},\n",
      "                                               'volume': 8},\n",
      "                        'position': [1.0, 5.0, 0.0]},\n",
      "                  '3': {'Shared Environment': {'concentrations': {'acetate': 1.0107257622443444,\n",
      "                                                                  'biomass': 0.542851484980277,\n",
      "                                                                  'glucose': 0.774518390204768},\n",
      "                                               'counts': {'acetate': 8.085806097954755,\n",
      "                                                          'biomass': 4.342811879842216,\n",
      "                                                          'glucose': 6.196147121638144},\n",
      "                                               'volume': 8},\n",
      "                        'position': [3.0, 1.0, 0.0]},\n",
      "                  '4': {'Shared Environment': {'concentrations': {'acetate': 0.6503912879409997,\n",
      "                                                                  'biomass': 0.1679998766964319,\n",
      "                                                                  'glucose': 0.2742217522884463},\n",
      "                                               'counts': {'acetate': 5.203130303527997,\n",
      "                                                          'biomass': 1.3439990135714552,\n",
      "                                                          'glucose': 2.1937740183075705},\n",
      "                                               'volume': 8},\n",
      "                        'position': [3.0, 3.0, 0.0]},\n",
      "                  '5': {'Shared Environment': {'concentrations': {'acetate': 0.4143510185387414,\n",
      "                                                                  'biomass': 1.1489258638029738,\n",
      "                                                                  'glucose': 0.6147246546596887},\n",
      "                                               'counts': {'acetate': 3.314808148309931,\n",
      "                                                          'biomass': 9.19140691042379,\n",
      "                                                          'glucose': 4.91779723727751},\n",
      "                                               'volume': 8},\n",
      "                        'position': [3.0, 5.0, 0.0]},\n",
      "                  '6': {'Shared Environment': {'concentrations': {'acetate': 0.12374156067106082,\n",
      "                                                                  'biomass': 0.6285399187481683,\n",
      "                                                                  'glucose': 0.13423488854892182},\n",
      "                                               'counts': {'acetate': 0.9899324853684865,\n",
      "                                                          'biomass': 5.028319349985346,\n",
      "                                                          'glucose': 1.0738791083913746},\n",
      "                                               'volume': 8},\n",
      "                        'position': [5.0, 1.0, 0.0]},\n",
      "                  '7': {'Shared Environment': {'concentrations': {'acetate': 0.29782184751992014,\n",
      "                                                                  'biomass': 0.4781056731692719,\n",
      "                                                                  'glucose': 0.3188309712450178},\n",
      "                                               'counts': {'acetate': 2.382574780159361,\n",
      "                                                          'biomass': 3.824845385354175,\n",
      "                                                          'glucose': 2.5506477699601424},\n",
      "                                               'volume': 8},\n",
      "                        'position': [5.0, 3.0, 0.0]},\n",
      "                  '8': {'Shared Environment': {'concentrations': {'acetate': 0.7578599372452985,\n",
      "                                                                  'biomass': 0.7486701892964813,\n",
      "                                                                  'glucose': 0.5028514635192626},\n",
      "                                               'counts': {'acetate': 6.062879497962388,\n",
      "                                                          'biomass': 5.989361514371851,\n",
      "                                                          'glucose': 4.022811708154101},\n",
      "                                               'volume': 8},\n",
      "                        'position': [5.0, 5.0, 0.0]}},\n",
      " 'Edges': [{'1': {'neighbors': ('0', '3'), 'surface_area': 4}},\n",
      "           {'2': {'neighbors': ('0', '1'), 'surface_area': 4}},\n",
      "           {'3': {'neighbors': ('1', '4'), 'surface_area': 4}},\n",
      "           {'4': {'neighbors': ('1', '2'), 'surface_area': 4}},\n",
      "           {'5': {'neighbors': ('2', '5'), 'surface_area': 4}},\n",
      "           {'6': {'neighbors': ('3', '6'), 'surface_area': 4}},\n",
      "           {'7': {'neighbors': ('3', '4'), 'surface_area': 4}},\n",
      "           {'8': {'neighbors': ('4', '7'), 'surface_area': 4}},\n",
      "           {'9': {'neighbors': ('4', '5'), 'surface_area': 4}},\n",
      "           {'10': {'neighbors': ('5', '8'), 'surface_area': 4}},\n",
      "           {'11': {'neighbors': ('6', '7'), 'surface_area': 4}},\n",
      "           {'12': {'neighbors': ('7', '8'), 'surface_area': 4}}]}\n"
     ]
    }
   ],
   "execution_count": 15
  },
  {
   "metadata": {},
   "cell_type": "code",
   "outputs": [],
   "execution_count": null,
   "source": [
    "class SimpleDiffusion(Process):\n",
    "    \"\"\"Simple diffusion between compartments\"\"\"\n",
    "    config_schema = {\n",
    "        \"spacing\": \"float\",\n",
    "        \"substrates\": \"map[float]\",\n",
    "    }\n",
    "\n",
    "    def __init__(self, config, core):\n",
    "        super.__init__(config, core)\n",
    "\n",
    "        self.substrates = config['substrates']\n",
    "\n",
    "    def inputs(self):\n",
    "        return {\n",
    "            \"compartments\": \"compartments\",\n",
    "            \"edges\": \"map[edge]\",\n",
    "        }\n",
    "\n",
    "    def outputs(self):\n",
    "        return {\n",
    "            compartments: \"any\"\n",
    "        }\n",
    "\n",
    "    def update(self, inputs, interval):\n",
    "        edges = inputs['edges']\n",
    "        compartments = inputs['compartments']\n",
    "\n",
    "        update = {\n",
    "            'Compartments': {\n",
    "                compartment_id: {\n",
    "                    'Shared Environment': compartments[compartment_id]['Shared Environment'],\n",
    "                }\n",
    "            }\n",
    "        for compartment_id in compartments.keys()}\n",
    "\n",
    "        for edge in edges:\n",
    "            compartment1 = compartments[edge[0]]\n",
    "            compartment2 = compartments[edge[1]]\n",
    "            conc1 = compartments[compartment1]['Shared Environment']['concentrations']\n",
    "            conc2 = compartments[compartment2]['Shared Environment']['concentrations']\n",
    "            for substrate in self.substrates.keys():\n",
    "                concentration1 = conc1[substrate]\n",
    "                concentration2 = conc2[substrate]\n",
    "                diffusivity = self.substrates[substrate]\n",
    "\n",
    "                d_conc = -diffusivity * (concentration2 - concentration1)\n",
    "\n",
    "\n",
    "\n",
    "\n"
   ],
   "id": "63f32a656257a4a2"
  },
  {
   "metadata": {
    "ExecuteTime": {
     "end_time": "2025-05-13T16:59:23.307848Z",
     "start_time": "2025-05-13T16:59:23.305739Z"
    }
   },
   "cell_type": "code",
   "source": "number = list(np.arange(0, 10, 0.5))",
   "id": "413b2b275fd03f83",
   "outputs": [],
   "execution_count": 21
  },
  {
   "metadata": {
    "ExecuteTime": {
     "end_time": "2025-05-13T16:59:23.973803Z",
     "start_time": "2025-05-13T16:59:23.970455Z"
    }
   },
   "cell_type": "code",
   "source": "number",
   "id": "acb719630274b16",
   "outputs": [
    {
     "data": {
      "text/plain": [
       "[np.float64(0.0),\n",
       " np.float64(0.5),\n",
       " np.float64(1.0),\n",
       " np.float64(1.5),\n",
       " np.float64(2.0),\n",
       " np.float64(2.5),\n",
       " np.float64(3.0),\n",
       " np.float64(3.5),\n",
       " np.float64(4.0),\n",
       " np.float64(4.5),\n",
       " np.float64(5.0),\n",
       " np.float64(5.5),\n",
       " np.float64(6.0),\n",
       " np.float64(6.5),\n",
       " np.float64(7.0),\n",
       " np.float64(7.5),\n",
       " np.float64(8.0),\n",
       " np.float64(8.5),\n",
       " np.float64(9.0),\n",
       " np.float64(9.5)]"
      ]
     },
     "execution_count": 22,
     "metadata": {},
     "output_type": "execute_result"
    }
   ],
   "execution_count": 22
  },
  {
   "metadata": {
    "ExecuteTime": {
     "end_time": "2025-05-13T16:57:52.236451Z",
     "start_time": "2025-05-13T16:57:52.234424Z"
    }
   },
   "cell_type": "code",
   "source": "float(number)",
   "id": "7dd1595af346b195",
   "outputs": [
    {
     "data": {
      "text/plain": [
       "5.0"
      ]
     },
     "execution_count": 16,
     "metadata": {},
     "output_type": "execute_result"
    }
   ],
   "execution_count": 16
  },
  {
   "metadata": {
    "ExecuteTime": {
     "end_time": "2025-05-14T17:36:21.474788Z",
     "start_time": "2025-05-14T17:36:21.471377Z"
    }
   },
   "cell_type": "code",
   "source": "pprint(compartments)",
   "id": "4d04b6a99986da29",
   "outputs": [
    {
     "name": "stdout",
     "output_type": "stream",
     "text": [
      "{'0': {'Shared Environment': {'concentrations': {'acetate': 0.5559583884925855,\n",
      "                                                 'biomass': 0.04354394461746097,\n",
      "                                                 'glucose': 0.9542156974811664},\n",
      "                              'counts': {'acetate': 4.447667107940684,\n",
      "                                         'biomass': 0.3483515569396878,\n",
      "                                         'glucose': 7.633725579849331},\n",
      "                              'volume': 8},\n",
      "       'position': [1.0, 1.0, 0.0]},\n",
      " '1': {'Shared Environment': {'concentrations': {'acetate': 0.6379649320270487,\n",
      "                                                 'biomass': 0.40771013995424654,\n",
      "                                                 'glucose': 0.2753922584735316},\n",
      "                              'counts': {'acetate': 5.10371945621639,\n",
      "                                         'biomass': 3.2616811196339723,\n",
      "                                         'glucose': 2.203138067788253},\n",
      "                              'volume': 8},\n",
      "       'position': [1.0, 3.0, 0.0]},\n",
      " '2': {'Shared Environment': {'concentrations': {'acetate': 1.0833136945819892,\n",
      "                                                 'biomass': 0.17048693970479784,\n",
      "                                                 'glucose': 0.43512039345727505},\n",
      "                              'counts': {'acetate': 8.666509556655914,\n",
      "                                         'biomass': 1.3638955176383827,\n",
      "                                         'glucose': 3.4809631476582004},\n",
      "                              'volume': 8},\n",
      "       'position': [1.0, 5.0, 0.0]},\n",
      " '3': {'Shared Environment': {'concentrations': {'acetate': 1.0107257622443444,\n",
      "                                                 'biomass': 0.542851484980277,\n",
      "                                                 'glucose': 0.774518390204768},\n",
      "                              'counts': {'acetate': 8.085806097954755,\n",
      "                                         'biomass': 4.342811879842216,\n",
      "                                         'glucose': 6.196147121638144},\n",
      "                              'volume': 8},\n",
      "       'position': [3.0, 1.0, 0.0]},\n",
      " '4': {'Shared Environment': {'concentrations': {'acetate': 0.6503912879409997,\n",
      "                                                 'biomass': 0.1679998766964319,\n",
      "                                                 'glucose': 0.2742217522884463},\n",
      "                              'counts': {'acetate': 5.203130303527997,\n",
      "                                         'biomass': 1.3439990135714552,\n",
      "                                         'glucose': 2.1937740183075705},\n",
      "                              'volume': 8},\n",
      "       'position': [3.0, 3.0, 0.0]},\n",
      " '5': {'Shared Environment': {'concentrations': {'acetate': 0.4143510185387414,\n",
      "                                                 'biomass': 1.1489258638029738,\n",
      "                                                 'glucose': 0.6147246546596887},\n",
      "                              'counts': {'acetate': 3.314808148309931,\n",
      "                                         'biomass': 9.19140691042379,\n",
      "                                         'glucose': 4.91779723727751},\n",
      "                              'volume': 8},\n",
      "       'position': [3.0, 5.0, 0.0]},\n",
      " '6': {'Shared Environment': {'concentrations': {'acetate': 0.12374156067106082,\n",
      "                                                 'biomass': 0.6285399187481683,\n",
      "                                                 'glucose': 0.13423488854892182},\n",
      "                              'counts': {'acetate': 0.9899324853684865,\n",
      "                                         'biomass': 5.028319349985346,\n",
      "                                         'glucose': 1.0738791083913746},\n",
      "                              'volume': 8},\n",
      "       'position': [5.0, 1.0, 0.0]},\n",
      " '7': {'Shared Environment': {'concentrations': {'acetate': 0.29782184751992014,\n",
      "                                                 'biomass': 0.4781056731692719,\n",
      "                                                 'glucose': 0.3188309712450178},\n",
      "                              'counts': {'acetate': 2.382574780159361,\n",
      "                                         'biomass': 3.824845385354175,\n",
      "                                         'glucose': 2.5506477699601424},\n",
      "                              'volume': 8},\n",
      "       'position': [5.0, 3.0, 0.0]},\n",
      " '8': {'Shared Environment': {'concentrations': {'acetate': 0.7578599372452985,\n",
      "                                                 'biomass': 0.7486701892964813,\n",
      "                                                 'glucose': 0.5028514635192626},\n",
      "                              'counts': {'acetate': 6.062879497962388,\n",
      "                                         'biomass': 5.989361514371851,\n",
      "                                         'glucose': 4.022811708154101},\n",
      "                              'volume': 8},\n",
      "       'position': [5.0, 5.0, 0.0]}}\n"
     ]
    }
   ],
   "execution_count": 17
  },
  {
   "metadata": {
    "ExecuteTime": {
     "end_time": "2025-05-14T18:12:38.328967Z",
     "start_time": "2025-05-14T18:12:38.324339Z"
    }
   },
   "cell_type": "code",
   "source": [
    "update = {\n",
    "            'Compartments': {\n",
    "                compartment_id: {\n",
    "                    'Shared Environment': {\n",
    "                        \"counts\": compartments[compartment_id]['Shared Environment'][\"counts\"]\n",
    "                    },\n",
    "                }\n",
    "            for compartment_id in compartments.keys()}\n",
    "        }"
   ],
   "id": "80a51f7ddd92a897",
   "outputs": [],
   "execution_count": 25
  },
  {
   "metadata": {
    "ExecuteTime": {
     "end_time": "2025-05-14T18:12:39.682379Z",
     "start_time": "2025-05-14T18:12:39.677300Z"
    }
   },
   "cell_type": "code",
   "source": "pprint(update)",
   "id": "5576146770eb819a",
   "outputs": [
    {
     "name": "stdout",
     "output_type": "stream",
     "text": [
      "{'Compartments': {'0': {'Shared Environment': {'counts': {'acetate': 4.447667107940684,\n",
      "                                                          'biomass': 0.3483515569396878,\n",
      "                                                          'glucose': 7.633725579849331}}},\n",
      "                  '1': {'Shared Environment': {'counts': {'acetate': 5.10371945621639,\n",
      "                                                          'biomass': 3.2616811196339723,\n",
      "                                                          'glucose': 2.203138067788253}}},\n",
      "                  '2': {'Shared Environment': {'counts': {'acetate': 8.666509556655914,\n",
      "                                                          'biomass': 1.3638955176383827,\n",
      "                                                          'glucose': 3.4809631476582004}}},\n",
      "                  '3': {'Shared Environment': {'counts': {'acetate': 8.085806097954755,\n",
      "                                                          'biomass': 4.342811879842216,\n",
      "                                                          'glucose': 6.196147121638144}}},\n",
      "                  '4': {'Shared Environment': {'counts': {'acetate': 5.203130303527997,\n",
      "                                                          'biomass': 1.3439990135714552,\n",
      "                                                          'glucose': 2.1937740183075705}}},\n",
      "                  '5': {'Shared Environment': {'counts': {'acetate': 3.314808148309931,\n",
      "                                                          'biomass': 9.19140691042379,\n",
      "                                                          'glucose': 4.91779723727751}}},\n",
      "                  '6': {'Shared Environment': {'counts': {'acetate': 0.9899324853684865,\n",
      "                                                          'biomass': 5.028319349985346,\n",
      "                                                          'glucose': 1.0738791083913746}}},\n",
      "                  '7': {'Shared Environment': {'counts': {'acetate': 2.382574780159361,\n",
      "                                                          'biomass': 3.824845385354175,\n",
      "                                                          'glucose': 2.5506477699601424}}},\n",
      "                  '8': {'Shared Environment': {'counts': {'acetate': 6.062879497962388,\n",
      "                                                          'biomass': 5.989361514371851,\n",
      "                                                          'glucose': 4.022811708154101}}}}}\n"
     ]
    }
   ],
   "execution_count": 26
  },
  {
   "metadata": {
    "ExecuteTime": {
     "end_time": "2025-05-14T19:18:50.303059Z",
     "start_time": "2025-05-14T19:18:50.294738Z"
    }
   },
   "cell_type": "code",
   "source": [
    "update = {\n",
    "    \"counts\": {\n",
    "        \"acetate\": 0.5,\n",
    "        \"biomass\": 0.5,\n",
    "        \"glucose\": 0.5,\n",
    "    }\n",
    "}"
   ],
   "id": "eb64a202983d0387",
   "outputs": [],
   "execution_count": 27
  },
  {
   "metadata": {
    "ExecuteTime": {
     "end_time": "2025-05-14T19:18:55.065932Z",
     "start_time": "2025-05-14T19:18:55.062364Z"
    }
   },
   "cell_type": "code",
   "source": "pprint(update)",
   "id": "6f61a0c044f44ea0",
   "outputs": [
    {
     "name": "stdout",
     "output_type": "stream",
     "text": [
      "{'counts': {'acetate': 0.5, 'biomass': 0.5, 'glucose': 0.5}}\n"
     ]
    }
   ],
   "execution_count": 28
  },
  {
   "metadata": {
    "ExecuteTime": {
     "end_time": "2025-05-15T19:04:33.886519Z",
     "start_time": "2025-05-15T19:04:33.879538Z"
    }
   },
   "cell_type": "code",
   "source": [
    "update = {\n",
    "            compartment_id: {\n",
    "                'counts': {\n",
    "                    substrate: 0 for substrate in [\"glucose\", \"acetate\", \"biomass\"]\n",
    "                },\n",
    "            }\n",
    "        for compartment_id in compartments.keys()}"
   ],
   "id": "48d9e21d1d984952",
   "outputs": [],
   "execution_count": 29
  },
  {
   "metadata": {
    "ExecuteTime": {
     "end_time": "2025-05-15T19:04:38.740142Z",
     "start_time": "2025-05-15T19:04:38.737732Z"
    }
   },
   "cell_type": "code",
   "source": "pprint(update)",
   "id": "6ebe4934ea7ed740",
   "outputs": [
    {
     "name": "stdout",
     "output_type": "stream",
     "text": [
      "{'0': {'counts': {'acetate': 0, 'biomass': 0, 'glucose': 0}},\n",
      " '1': {'counts': {'acetate': 0, 'biomass': 0, 'glucose': 0}},\n",
      " '2': {'counts': {'acetate': 0, 'biomass': 0, 'glucose': 0}},\n",
      " '3': {'counts': {'acetate': 0, 'biomass': 0, 'glucose': 0}},\n",
      " '4': {'counts': {'acetate': 0, 'biomass': 0, 'glucose': 0}},\n",
      " '5': {'counts': {'acetate': 0, 'biomass': 0, 'glucose': 0}},\n",
      " '6': {'counts': {'acetate': 0, 'biomass': 0, 'glucose': 0}},\n",
      " '7': {'counts': {'acetate': 0, 'biomass': 0, 'glucose': 0}},\n",
      " '8': {'counts': {'acetate': 0, 'biomass': 0, 'glucose': 0}}}\n"
     ]
    }
   ],
   "execution_count": 30
  },
  {
   "metadata": {
    "ExecuteTime": {
     "end_time": "2025-05-22T18:44:57.630046Z",
     "start_time": "2025-05-22T18:44:57.495160Z"
    }
   },
   "cell_type": "code",
   "source": [
    "import numpy as np\n",
    "np.array([1,1]) - np.array([2,2])"
   ],
   "id": "bd45f06904f0388f",
   "outputs": [
    {
     "data": {
      "text/plain": [
       "array([-1, -1])"
      ]
     },
     "execution_count": 3,
     "metadata": {},
     "output_type": "execute_result"
    }
   ],
   "execution_count": 3
  },
  {
   "metadata": {
    "ExecuteTime": {
     "end_time": "2025-05-27T14:20:37.891938Z",
     "start_time": "2025-05-27T14:20:37.888105Z"
    }
   },
   "cell_type": "code",
   "source": "enumerate(['x', 'y', 'z'])",
   "id": "518b7122a27714b1",
   "outputs": [
    {
     "data": {
      "text/plain": [
       "<enumerate at 0x103159a30>"
      ]
     },
     "execution_count": 1,
     "metadata": {},
     "output_type": "execute_result"
    }
   ],
   "execution_count": 1
  },
  {
   "metadata": {
    "ExecuteTime": {
     "end_time": "2025-05-27T14:20:59.347137Z",
     "start_time": "2025-05-27T14:20:59.344738Z"
    }
   },
   "cell_type": "code",
   "source": [
    "for i, dim in enumerate(['x', 'y', 'z']):\n",
    "    print(i, dim)"
   ],
   "id": "b9c384e5fe91c538",
   "outputs": [
    {
     "name": "stdout",
     "output_type": "stream",
     "text": [
      "0 x\n",
      "1 y\n",
      "2 z\n"
     ]
    }
   ],
   "execution_count": 2
  },
  {
   "metadata": {
    "ExecuteTime": {
     "end_time": "2025-05-28T18:19:20.208963Z",
     "start_time": "2025-05-28T18:19:20.205219Z"
    }
   },
   "cell_type": "code",
   "source": [
    "from bigraph_viz import plot_bigraph\n",
    "from spatial_transport.utils import get_regular_edges, generate_voxels, generate_shared_environments, plot_concentrations_2d\n",
    "from spatial_transport.processes.diffusion import get_simple_diffusion_spec\n",
    "\n",
    "spec = {}\n",
    "substrates = {\n",
    "    \"glucose\": 0.06,\n",
    "    \"acetate\": 0.12,\n",
    "}\n",
    "spec[\"Simple Diffusion\"] = get_simple_diffusion_spec(spacing=1, substrates=substrates, interval = 0.1)\n",
    "comps = generate_voxels(dims=[2, 2, 0], spacing=1)\n",
    "comps = generate_shared_environments(comps, spacing=1, substrates=substrates)\n",
    "spec[\"Compartments\"] = comps\n",
    "edges = get_regular_edges(comps, spacing=1)\n",
    "spec[\"Edges\"] = edges\n",
    "# # set emitter specs\n",
    "# spec[\"emitter\"] = emitter_from_wires({\n",
    "#     \"global_time\": [\"global_time\"],\n",
    "#     'compartments': ['Compartments'],\n",
    "# })"
   ],
   "id": "9399378db4915b18",
   "outputs": [],
   "execution_count": 5
  },
  {
   "metadata": {
    "ExecuteTime": {
     "end_time": "2025-05-28T18:19:20.619868Z",
     "start_time": "2025-05-28T18:19:20.618152Z"
    }
   },
   "cell_type": "code",
   "source": "from pprint import pprint",
   "id": "8a7d6e6b5ef4b3f8",
   "outputs": [],
   "execution_count": 6
  },
  {
   "metadata": {
    "ExecuteTime": {
     "end_time": "2025-05-28T18:19:21.311428Z",
     "start_time": "2025-05-28T18:19:21.307763Z"
    }
   },
   "cell_type": "code",
   "source": "pprint(spec)",
   "id": "ff67033ec52df3aa",
   "outputs": [
    {
     "name": "stdout",
     "output_type": "stream",
     "text": [
      "{'Compartments': {'0': {'Shared Environment': {'concentrations': {'acetate': 6.6933934050653585,\n",
      "                                                                  'glucose': 9.582446323850176},\n",
      "                                               'counts': {'acetate': 6.6933934050653585,\n",
      "                                                          'glucose': 9.582446323850176},\n",
      "                                               'volume': 1},\n",
      "                        'position': [0.5, 0.5, 0.0]},\n",
      "                  '1': {'Shared Environment': {'concentrations': {'acetate': 9.306369576594228,\n",
      "                                                                  'glucose': 4.606066966037796},\n",
      "                                               'counts': {'acetate': 9.306369576594228,\n",
      "                                                          'glucose': 4.606066966037796},\n",
      "                                               'volume': 1},\n",
      "                        'position': [0.5, 1.5, 0.0]},\n",
      "                  '2': {'Shared Environment': {'concentrations': {'acetate': 9.90808845006786,\n",
      "                                                                  'glucose': 3.773072842378369},\n",
      "                                               'counts': {'acetate': 9.90808845006786,\n",
      "                                                          'glucose': 3.773072842378369},\n",
      "                                               'volume': 1},\n",
      "                        'position': [1.5, 0.5, 0.0]},\n",
      "                  '3': {'Shared Environment': {'concentrations': {'acetate': 2.4776736078749217,\n",
      "                                                                  'glucose': 7.227181394793863},\n",
      "                                               'counts': {'acetate': 2.4776736078749217,\n",
      "                                                          'glucose': 7.227181394793863},\n",
      "                                               'volume': 1},\n",
      "                        'position': [1.5, 1.5, 0.0]}},\n",
      " 'Edges': {'1': {'neighbors': ['0', '2'], 'periodic': False, 'surface_area': 1},\n",
      "           '2': {'neighbors': ['0', '1'], 'periodic': False, 'surface_area': 1},\n",
      "           '3': {'neighbors': ['1', '3'], 'periodic': False, 'surface_area': 1},\n",
      "           '4': {'neighbors': ['2', '3'],\n",
      "                 'periodic': False,\n",
      "                 'surface_area': 1}},\n",
      " 'Simple Diffusion': {'_type': 'process',\n",
      "                      'address': 'local:SimpleDiffusion',\n",
      "                      'config': {'spacing': 1,\n",
      "                                 'substrates': {'acetate': 0.12,\n",
      "                                                'glucose': 0.06}},\n",
      "                      'inputs': {'compartments': ['Compartments'],\n",
      "                                 'edges': ['Edges']},\n",
      "                      'interval': 0.1,\n",
      "                      'outputs': {'compartments': ['Compartments']}}}\n"
     ]
    }
   ],
   "execution_count": 7
  },
  {
   "metadata": {
    "ExecuteTime": {
     "end_time": "2025-05-28T18:20:35.277107Z",
     "start_time": "2025-05-28T18:20:35.075910Z"
    }
   },
   "cell_type": "code",
   "source": "(plot_bigraph(spec))",
   "id": "ba72f0a674091883",
   "outputs": [
    {
     "data": {
      "image/svg+xml": "<?xml version=\"1.0\" encoding=\"UTF-8\" standalone=\"no\"?>\n<!DOCTYPE svg PUBLIC \"-//W3C//DTD SVG 1.1//EN\"\n \"http://www.w3.org/Graphics/SVG/1.1/DTD/svg11.dtd\">\n<!-- Generated by graphviz version 12.2.1 (20241206.2353)\n -->\n<!-- Title: bigraph Pages: 1 -->\n<svg width=\"1120pt\" height=\"331pt\"\n viewBox=\"0.00 0.00 1152.00 340.85\" xmlns=\"http://www.w3.org/2000/svg\" xmlns:xlink=\"http://www.w3.org/1999/xlink\">\n<g id=\"graph0\" class=\"graph\" transform=\"scale(0.576075 0.576075) rotate(0) translate(4 571.24)\">\n<title>bigraph</title>\n<polygon fill=\"white\" stroke=\"none\" points=\"-4,4 -4,-571.24 1940.19,-571.24 1940.19,4 -4,4\"/>\n<!-- (&#39;Compartments&#39;,) -->\n<g id=\"node1\" class=\"node\">\n<title>(&#39;Compartments&#39;,)</title>\n<ellipse fill=\"none\" stroke=\"black\" stroke-width=\"2\" cx=\"527.9\" cy=\"-519.8\" rx=\"47.44\" ry=\"47.44\"/>\n<text text-anchor=\"start\" x=\"493.4\" y=\"-515.52\" font-family=\"Times,serif\" font-size=\"12.00\">Compartments</text>\n</g>\n<!-- (&#39;Compartments&#39;, &#39;0&#39;) -->\n<g id=\"node2\" class=\"node\">\n<title>(&#39;Compartments&#39;, &#39;0&#39;)</title>\n<ellipse fill=\"none\" stroke=\"black\" stroke-width=\"2\" cx=\"147.9\" cy=\"-407.11\" rx=\"18\" ry=\"18\"/>\n<text text-anchor=\"start\" x=\"144.9\" y=\"-402.83\" font-family=\"Times,serif\" font-size=\"12.00\">0</text>\n</g>\n<!-- (&#39;Compartments&#39;,)&#45;&gt;(&#39;Compartments&#39;, &#39;0&#39;) -->\n<g id=\"edge1\" class=\"edge\">\n<title>(&#39;Compartments&#39;,)&#45;&gt;(&#39;Compartments&#39;, &#39;0&#39;)</title>\n<path fill=\"none\" stroke=\"black\" stroke-width=\"2\" d=\"M481.68,-505.34C397.22,-480.73 221.48,-429.54 165.46,-413.22\"/>\n</g>\n<!-- (&#39;Compartments&#39;, &#39;1&#39;) -->\n<g id=\"node12\" class=\"node\">\n<title>(&#39;Compartments&#39;, &#39;1&#39;)</title>\n<ellipse fill=\"none\" stroke=\"black\" stroke-width=\"2\" cx=\"376.9\" cy=\"-407.11\" rx=\"18\" ry=\"18\"/>\n<text text-anchor=\"start\" x=\"373.9\" y=\"-402.83\" font-family=\"Times,serif\" font-size=\"12.00\">1</text>\n</g>\n<!-- (&#39;Compartments&#39;,)&#45;&gt;(&#39;Compartments&#39;, &#39;1&#39;) -->\n<g id=\"edge11\" class=\"edge\">\n<title>(&#39;Compartments&#39;,)&#45;&gt;(&#39;Compartments&#39;, &#39;1&#39;)</title>\n<path fill=\"none\" stroke=\"black\" stroke-width=\"2\" d=\"M489.4,-490.58C457.6,-467.26 414.15,-435.42 391.69,-418.95\"/>\n</g>\n<!-- (&#39;Compartments&#39;, &#39;2&#39;) -->\n<g id=\"node22\" class=\"node\">\n<title>(&#39;Compartments&#39;, &#39;2&#39;)</title>\n<ellipse fill=\"none\" stroke=\"black\" stroke-width=\"2\" cx=\"527.9\" cy=\"-407.11\" rx=\"18\" ry=\"18\"/>\n<text text-anchor=\"middle\" x=\"527.9\" y=\"-402.83\" font-family=\"Times,serif\" font-size=\"12.00\">2</text>\n</g>\n<!-- (&#39;Compartments&#39;,)&#45;&gt;(&#39;Compartments&#39;, &#39;2&#39;) -->\n<g id=\"edge21\" class=\"edge\">\n<title>(&#39;Compartments&#39;,)&#45;&gt;(&#39;Compartments&#39;, &#39;2&#39;)</title>\n<path fill=\"none\" stroke=\"black\" stroke-width=\"2\" d=\"M527.9,-471.53C527.9,-455.43 527.9,-438.4 527.9,-426.04\"/>\n</g>\n<!-- (&#39;Compartments&#39;, &#39;3&#39;) -->\n<g id=\"node32\" class=\"node\">\n<title>(&#39;Compartments&#39;, &#39;3&#39;)</title>\n<ellipse fill=\"none\" stroke=\"black\" stroke-width=\"2\" cx=\"715.9\" cy=\"-407.11\" rx=\"18\" ry=\"18\"/>\n<text text-anchor=\"start\" x=\"712.9\" y=\"-402.83\" font-family=\"Times,serif\" font-size=\"12.00\">3</text>\n</g>\n<!-- (&#39;Compartments&#39;,)&#45;&gt;(&#39;Compartments&#39;, &#39;3&#39;) -->\n<g id=\"edge31\" class=\"edge\">\n<title>(&#39;Compartments&#39;,)&#45;&gt;(&#39;Compartments&#39;, &#39;3&#39;)</title>\n<path fill=\"none\" stroke=\"black\" stroke-width=\"2\" d=\"M569.15,-494.51C610.44,-470.2 671.81,-434.07 700.3,-417.29\"/>\n</g>\n<!-- (&#39;Simple Diffusion&#39;,) -->\n<g id=\"node59\" class=\"node\">\n<title>(&#39;Simple Diffusion&#39;,)</title>\n<polygon fill=\"none\" stroke=\"black\" stroke-width=\"2\" points=\"888,-425.11 799.8,-425.11 799.8,-389.11 888,-389.11 888,-425.11\"/>\n<text text-anchor=\"start\" x=\"803.4\" y=\"-402.83\" font-family=\"Times,serif\" font-size=\"12.00\">Simple Diffusion</text>\n</g>\n<!-- (&#39;Compartments&#39;,)&#45;&gt;(&#39;Simple Diffusion&#39;,) -->\n<g id=\"edge58\" class=\"edge\">\n<title>(&#39;Compartments&#39;,)&#45;&gt;(&#39;Simple Diffusion&#39;,)</title>\n<path fill=\"none\" stroke=\"black\" stroke-dasharray=\"5,2\" d=\"M583.81,-499.21C641.44,-479.03 730.73,-447.75 788.25,-427.6\"/>\n<polygon fill=\"black\" stroke=\"black\" points=\"582.88,-495.83 574.6,-502.44 585.19,-502.44 582.88,-495.83\"/>\n<polygon fill=\"black\" stroke=\"black\" points=\"789.25,-430.96 797.53,-424.35 786.94,-424.35 789.25,-430.96\"/>\n<text text-anchor=\"start\" x=\"741.68\" y=\"-444.86\" font-family=\"Times,serif\" font-size=\"10.00\">compartments</text>\n</g>\n<!-- (&#39;Compartments&#39;, &#39;0&#39;, &#39;position&#39;) -->\n<g id=\"node3\" class=\"node\">\n<title>(&#39;Compartments&#39;, &#39;0&#39;, &#39;position&#39;)</title>\n<ellipse fill=\"none\" stroke=\"black\" stroke-width=\"2\" cx=\"36.9\" cy=\"-286.92\" rx=\"27.83\" ry=\"27.83\"/>\n<text text-anchor=\"start\" x=\"18.15\" y=\"-282.65\" font-family=\"Times,serif\" font-size=\"12.00\">position</text>\n</g>\n<!-- (&#39;Compartments&#39;, &#39;0&#39;)&#45;&gt;(&#39;Compartments&#39;, &#39;0&#39;, &#39;position&#39;) -->\n<g id=\"edge2\" class=\"edge\">\n<title>(&#39;Compartments&#39;, &#39;0&#39;)&#45;&gt;(&#39;Compartments&#39;, &#39;0&#39;, &#39;position&#39;)</title>\n<path fill=\"none\" stroke=\"black\" stroke-width=\"2\" d=\"M131.95,-397.19C115.86,-387.61 91,-371.16 73.9,-352.11 63.58,-340.62 54.81,-325.8 48.4,-313.3\"/>\n</g>\n<!-- (&#39;Compartments&#39;, &#39;0&#39;, &#39;Shared Environment&#39;) -->\n<g id=\"node4\" class=\"node\">\n<title>(&#39;Compartments&#39;, &#39;0&#39;, &#39;Shared Environment&#39;)</title>\n<ellipse fill=\"none\" stroke=\"black\" stroke-width=\"2\" cx=\"147.9\" cy=\"-286.92\" rx=\"65.18\" ry=\"65.18\"/>\n<text text-anchor=\"start\" x=\"99.15\" y=\"-282.65\" font-family=\"Times,serif\" font-size=\"12.00\">Shared Environment</text>\n</g>\n<!-- (&#39;Compartments&#39;, &#39;0&#39;)&#45;&gt;(&#39;Compartments&#39;, &#39;0&#39;, &#39;Shared Environment&#39;) -->\n<g id=\"edge3\" class=\"edge\">\n<title>(&#39;Compartments&#39;, &#39;0&#39;)&#45;&gt;(&#39;Compartments&#39;, &#39;0&#39;, &#39;Shared Environment&#39;)</title>\n<path fill=\"none\" stroke=\"black\" stroke-width=\"2\" d=\"M147.9,-388.16C147.9,-378.47 147.9,-365.86 147.9,-352.86\"/>\n</g>\n<!-- (&#39;Compartments&#39;, &#39;0&#39;, &#39;Shared Environment&#39;, &#39;volume&#39;) -->\n<g id=\"node5\" class=\"node\">\n<title>(&#39;Compartments&#39;, &#39;0&#39;, &#39;Shared Environment&#39;, &#39;volume&#39;)</title>\n<ellipse fill=\"none\" stroke=\"black\" stroke-width=\"2\" cx=\"27.9\" cy=\"-137.76\" rx=\"26.43\" ry=\"26.43\"/>\n<text text-anchor=\"start\" x=\"10.27\" y=\"-133.49\" font-family=\"Times,serif\" font-size=\"12.00\">volume</text>\n</g>\n<!-- (&#39;Compartments&#39;, &#39;0&#39;, &#39;Shared Environment&#39;)&#45;&gt;(&#39;Compartments&#39;, &#39;0&#39;, &#39;Shared Environment&#39;, &#39;volume&#39;) -->\n<g id=\"edge4\" class=\"edge\">\n<title>(&#39;Compartments&#39;, &#39;0&#39;, &#39;Shared Environment&#39;)&#45;&gt;(&#39;Compartments&#39;, &#39;0&#39;, &#39;Shared Environment&#39;, &#39;volume&#39;)</title>\n<path fill=\"none\" stroke=\"black\" stroke-width=\"2\" d=\"M105.48,-236.39C91.73,-220.08 76.51,-201.76 62.9,-184.74 56.5,-176.75 49.65,-167.83 43.72,-159.98\"/>\n</g>\n<!-- (&#39;Compartments&#39;, &#39;0&#39;, &#39;Shared Environment&#39;, &#39;counts&#39;) -->\n<g id=\"node6\" class=\"node\">\n<title>(&#39;Compartments&#39;, &#39;0&#39;, &#39;Shared Environment&#39;, &#39;counts&#39;)</title>\n<ellipse fill=\"none\" stroke=\"black\" stroke-width=\"2\" cx=\"95.9\" cy=\"-137.76\" rx=\"23.63\" ry=\"23.63\"/>\n<text text-anchor=\"start\" x=\"80.52\" y=\"-133.49\" font-family=\"Times,serif\" font-size=\"12.00\">counts</text>\n</g>\n<!-- (&#39;Compartments&#39;, &#39;0&#39;, &#39;Shared Environment&#39;)&#45;&gt;(&#39;Compartments&#39;, &#39;0&#39;, &#39;Shared Environment&#39;, &#39;counts&#39;) -->\n<g id=\"edge5\" class=\"edge\">\n<title>(&#39;Compartments&#39;, &#39;0&#39;, &#39;Shared Environment&#39;)&#45;&gt;(&#39;Compartments&#39;, &#39;0&#39;, &#39;Shared Environment&#39;, &#39;counts&#39;)</title>\n<path fill=\"none\" stroke=\"black\" stroke-width=\"2\" d=\"M126.29,-224.79C118.31,-202.21 109.76,-178.01 103.77,-161.05\"/>\n</g>\n<!-- (&#39;Compartments&#39;, &#39;0&#39;, &#39;Shared Environment&#39;, &#39;concentrations&#39;) -->\n<g id=\"node9\" class=\"node\">\n<title>(&#39;Compartments&#39;, &#39;0&#39;, &#39;Shared Environment&#39;, &#39;concentrations&#39;)</title>\n<ellipse fill=\"none\" stroke=\"black\" stroke-width=\"2\" cx=\"184.9\" cy=\"-137.76\" rx=\"46.97\" ry=\"46.97\"/>\n<text text-anchor=\"start\" x=\"150.77\" y=\"-133.49\" font-family=\"Times,serif\" font-size=\"12.00\">concentrations</text>\n</g>\n<!-- (&#39;Compartments&#39;, &#39;0&#39;, &#39;Shared Environment&#39;)&#45;&gt;(&#39;Compartments&#39;, &#39;0&#39;, &#39;Shared Environment&#39;, &#39;concentrations&#39;) -->\n<g id=\"edge8\" class=\"edge\">\n<title>(&#39;Compartments&#39;, &#39;0&#39;, &#39;Shared Environment&#39;)&#45;&gt;(&#39;Compartments&#39;, &#39;0&#39;, &#39;Shared Environment&#39;, &#39;concentrations&#39;)</title>\n<path fill=\"none\" stroke=\"black\" stroke-width=\"2\" d=\"M163.69,-223.09C166.99,-209.96 170.41,-196.37 173.51,-184.04\"/>\n</g>\n<!-- (&#39;Compartments&#39;, &#39;0&#39;, &#39;Shared Environment&#39;, &#39;counts&#39;, &#39;glucose&#39;) -->\n<g id=\"node7\" class=\"node\">\n<title>(&#39;Compartments&#39;, &#39;0&#39;, &#39;Shared Environment&#39;, &#39;counts&#39;, &#39;glucose&#39;)</title>\n<ellipse fill=\"none\" stroke=\"black\" stroke-width=\"2\" cx=\"26.9\" cy=\"-26.9\" rx=\"26.9\" ry=\"26.9\"/>\n<text text-anchor=\"start\" x=\"8.9\" y=\"-22.62\" font-family=\"Times,serif\" font-size=\"12.00\">glucose</text>\n</g>\n<!-- (&#39;Compartments&#39;, &#39;0&#39;, &#39;Shared Environment&#39;, &#39;counts&#39;)&#45;&gt;(&#39;Compartments&#39;, &#39;0&#39;, &#39;Shared Environment&#39;, &#39;counts&#39;, &#39;glucose&#39;) -->\n<g id=\"edge6\" class=\"edge\">\n<title>(&#39;Compartments&#39;, &#39;0&#39;, &#39;Shared Environment&#39;, &#39;counts&#39;)&#45;&gt;(&#39;Compartments&#39;, &#39;0&#39;, &#39;Shared Environment&#39;, &#39;counts&#39;, &#39;glucose&#39;)</title>\n<path fill=\"none\" stroke=\"black\" stroke-width=\"2\" d=\"M83.24,-116.8C71.33,-98.01 53.53,-69.93 41.14,-50.37\"/>\n</g>\n<!-- (&#39;Compartments&#39;, &#39;0&#39;, &#39;Shared Environment&#39;, &#39;counts&#39;, &#39;acetate&#39;) -->\n<g id=\"node8\" class=\"node\">\n<title>(&#39;Compartments&#39;, &#39;0&#39;, &#39;Shared Environment&#39;, &#39;counts&#39;, &#39;acetate&#39;)</title>\n<ellipse fill=\"none\" stroke=\"black\" stroke-width=\"2\" cx=\"95.9\" cy=\"-26.9\" rx=\"24.56\" ry=\"24.56\"/>\n<text text-anchor=\"start\" x=\"79.77\" y=\"-22.62\" font-family=\"Times,serif\" font-size=\"12.00\">acetate</text>\n</g>\n<!-- (&#39;Compartments&#39;, &#39;0&#39;, &#39;Shared Environment&#39;, &#39;counts&#39;)&#45;&gt;(&#39;Compartments&#39;, &#39;0&#39;, &#39;Shared Environment&#39;, &#39;counts&#39;, &#39;acetate&#39;) -->\n<g id=\"edge7\" class=\"edge\">\n<title>(&#39;Compartments&#39;, &#39;0&#39;, &#39;Shared Environment&#39;, &#39;counts&#39;)&#45;&gt;(&#39;Compartments&#39;, &#39;0&#39;, &#39;Shared Environment&#39;, &#39;counts&#39;, &#39;acetate&#39;)</title>\n<path fill=\"none\" stroke=\"black\" stroke-width=\"2\" d=\"M95.9,-113.14C95.9,-95.13 95.9,-70.41 95.9,-52.23\"/>\n</g>\n<!-- (&#39;Compartments&#39;, &#39;0&#39;, &#39;Shared Environment&#39;, &#39;concentrations&#39;, &#39;glucose&#39;) -->\n<g id=\"node10\" class=\"node\">\n<title>(&#39;Compartments&#39;, &#39;0&#39;, &#39;Shared Environment&#39;, &#39;concentrations&#39;, &#39;glucose&#39;)</title>\n<ellipse fill=\"none\" stroke=\"black\" stroke-width=\"2\" cx=\"164.9\" cy=\"-26.9\" rx=\"26.9\" ry=\"26.9\"/>\n<text text-anchor=\"start\" x=\"146.9\" y=\"-22.62\" font-family=\"Times,serif\" font-size=\"12.00\">glucose</text>\n</g>\n<!-- (&#39;Compartments&#39;, &#39;0&#39;, &#39;Shared Environment&#39;, &#39;concentrations&#39;)&#45;&gt;(&#39;Compartments&#39;, &#39;0&#39;, &#39;Shared Environment&#39;, &#39;concentrations&#39;, &#39;glucose&#39;) -->\n<g id=\"edge9\" class=\"edge\">\n<title>(&#39;Compartments&#39;, &#39;0&#39;, &#39;Shared Environment&#39;, &#39;concentrations&#39;)&#45;&gt;(&#39;Compartments&#39;, &#39;0&#39;, &#39;Shared Environment&#39;, &#39;concentrations&#39;, &#39;glucose&#39;)</title>\n<path fill=\"none\" stroke=\"black\" stroke-width=\"2\" d=\"M176.41,-90.59C174.14,-78.19 171.75,-65.2 169.74,-54.29\"/>\n</g>\n<!-- (&#39;Compartments&#39;, &#39;0&#39;, &#39;Shared Environment&#39;, &#39;concentrations&#39;, &#39;acetate&#39;) -->\n<g id=\"node11\" class=\"node\">\n<title>(&#39;Compartments&#39;, &#39;0&#39;, &#39;Shared Environment&#39;, &#39;concentrations&#39;, &#39;acetate&#39;)</title>\n<ellipse fill=\"none\" stroke=\"black\" stroke-width=\"2\" cx=\"233.9\" cy=\"-26.9\" rx=\"24.56\" ry=\"24.56\"/>\n<text text-anchor=\"start\" x=\"217.77\" y=\"-22.62\" font-family=\"Times,serif\" font-size=\"12.00\">acetate</text>\n</g>\n<!-- (&#39;Compartments&#39;, &#39;0&#39;, &#39;Shared Environment&#39;, &#39;concentrations&#39;)&#45;&gt;(&#39;Compartments&#39;, &#39;0&#39;, &#39;Shared Environment&#39;, &#39;concentrations&#39;, &#39;acetate&#39;) -->\n<g id=\"edge10\" class=\"edge\">\n<title>(&#39;Compartments&#39;, &#39;0&#39;, &#39;Shared Environment&#39;, &#39;concentrations&#39;)&#45;&gt;(&#39;Compartments&#39;, &#39;0&#39;, &#39;Shared Environment&#39;, &#39;concentrations&#39;, &#39;acetate&#39;)</title>\n<path fill=\"none\" stroke=\"black\" stroke-width=\"2\" d=\"M204.12,-94.05C210.88,-79.04 218.2,-62.78 223.89,-50.13\"/>\n</g>\n<!-- (&#39;Compartments&#39;, &#39;1&#39;, &#39;position&#39;) -->\n<g id=\"node13\" class=\"node\">\n<title>(&#39;Compartments&#39;, &#39;1&#39;, &#39;position&#39;)</title>\n<ellipse fill=\"none\" stroke=\"black\" stroke-width=\"2\" cx=\"265.9\" cy=\"-286.92\" rx=\"27.83\" ry=\"27.83\"/>\n<text text-anchor=\"start\" x=\"247.15\" y=\"-282.65\" font-family=\"Times,serif\" font-size=\"12.00\">position</text>\n</g>\n<!-- (&#39;Compartments&#39;, &#39;1&#39;)&#45;&gt;(&#39;Compartments&#39;, &#39;1&#39;, &#39;position&#39;) -->\n<g id=\"edge12\" class=\"edge\">\n<title>(&#39;Compartments&#39;, &#39;1&#39;)&#45;&gt;(&#39;Compartments&#39;, &#39;1&#39;, &#39;position&#39;)</title>\n<path fill=\"none\" stroke=\"black\" stroke-width=\"2\" d=\"M360.95,-397.19C344.86,-387.61 320,-371.16 302.9,-352.11 292.58,-340.62 283.81,-325.8 277.4,-313.3\"/>\n</g>\n<!-- (&#39;Compartments&#39;, &#39;1&#39;, &#39;Shared Environment&#39;) -->\n<g id=\"node14\" class=\"node\">\n<title>(&#39;Compartments&#39;, &#39;1&#39;, &#39;Shared Environment&#39;)</title>\n<ellipse fill=\"none\" stroke=\"black\" stroke-width=\"2\" cx=\"376.9\" cy=\"-286.92\" rx=\"65.18\" ry=\"65.18\"/>\n<text text-anchor=\"start\" x=\"328.15\" y=\"-282.65\" font-family=\"Times,serif\" font-size=\"12.00\">Shared Environment</text>\n</g>\n<!-- (&#39;Compartments&#39;, &#39;1&#39;)&#45;&gt;(&#39;Compartments&#39;, &#39;1&#39;, &#39;Shared Environment&#39;) -->\n<g id=\"edge13\" class=\"edge\">\n<title>(&#39;Compartments&#39;, &#39;1&#39;)&#45;&gt;(&#39;Compartments&#39;, &#39;1&#39;, &#39;Shared Environment&#39;)</title>\n<path fill=\"none\" stroke=\"black\" stroke-width=\"2\" d=\"M376.9,-388.16C376.9,-378.47 376.9,-365.86 376.9,-352.86\"/>\n</g>\n<!-- (&#39;Compartments&#39;, &#39;1&#39;, &#39;Shared Environment&#39;, &#39;volume&#39;) -->\n<g id=\"node15\" class=\"node\">\n<title>(&#39;Compartments&#39;, &#39;1&#39;, &#39;Shared Environment&#39;, &#39;volume&#39;)</title>\n<ellipse fill=\"none\" stroke=\"black\" stroke-width=\"2\" cx=\"303.9\" cy=\"-137.76\" rx=\"26.43\" ry=\"26.43\"/>\n<text text-anchor=\"start\" x=\"286.27\" y=\"-133.49\" font-family=\"Times,serif\" font-size=\"12.00\">volume</text>\n</g>\n<!-- (&#39;Compartments&#39;, &#39;1&#39;, &#39;Shared Environment&#39;)&#45;&gt;(&#39;Compartments&#39;, &#39;1&#39;, &#39;Shared Environment&#39;, &#39;volume&#39;) -->\n<g id=\"edge14\" class=\"edge\">\n<title>(&#39;Compartments&#39;, &#39;1&#39;, &#39;Shared Environment&#39;)&#45;&gt;(&#39;Compartments&#39;, &#39;1&#39;, &#39;Shared Environment&#39;, &#39;volume&#39;)</title>\n<path fill=\"none\" stroke=\"black\" stroke-width=\"2\" d=\"M348.04,-227.76C336.73,-204.95 324.38,-180.06 315.63,-162.42\"/>\n</g>\n<!-- (&#39;Compartments&#39;, &#39;1&#39;, &#39;Shared Environment&#39;, &#39;counts&#39;) -->\n<g id=\"node16\" class=\"node\">\n<title>(&#39;Compartments&#39;, &#39;1&#39;, &#39;Shared Environment&#39;, &#39;counts&#39;)</title>\n<ellipse fill=\"none\" stroke=\"black\" stroke-width=\"2\" cx=\"371.9\" cy=\"-137.76\" rx=\"23.63\" ry=\"23.63\"/>\n<text text-anchor=\"start\" x=\"356.52\" y=\"-133.49\" font-family=\"Times,serif\" font-size=\"12.00\">counts</text>\n</g>\n<!-- (&#39;Compartments&#39;, &#39;1&#39;, &#39;Shared Environment&#39;)&#45;&gt;(&#39;Compartments&#39;, &#39;1&#39;, &#39;Shared Environment&#39;, &#39;counts&#39;) -->\n<g id=\"edge15\" class=\"edge\">\n<title>(&#39;Compartments&#39;, &#39;1&#39;, &#39;Shared Environment&#39;)&#45;&gt;(&#39;Compartments&#39;, &#39;1&#39;, &#39;Shared Environment&#39;, &#39;counts&#39;)</title>\n<path fill=\"none\" stroke=\"black\" stroke-width=\"2\" d=\"M374.69,-220.95C373.98,-200.01 373.23,-178.12 372.69,-162.2\"/>\n</g>\n<!-- (&#39;Compartments&#39;, &#39;1&#39;, &#39;Shared Environment&#39;, &#39;concentrations&#39;) -->\n<g id=\"node19\" class=\"node\">\n<title>(&#39;Compartments&#39;, &#39;1&#39;, &#39;Shared Environment&#39;, &#39;concentrations&#39;)</title>\n<ellipse fill=\"none\" stroke=\"black\" stroke-width=\"2\" cx=\"460.9\" cy=\"-137.76\" rx=\"46.97\" ry=\"46.97\"/>\n<text text-anchor=\"start\" x=\"426.77\" y=\"-133.49\" font-family=\"Times,serif\" font-size=\"12.00\">concentrations</text>\n</g>\n<!-- (&#39;Compartments&#39;, &#39;1&#39;, &#39;Shared Environment&#39;)&#45;&gt;(&#39;Compartments&#39;, &#39;1&#39;, &#39;Shared Environment&#39;, &#39;concentrations&#39;) -->\n<g id=\"edge18\" class=\"edge\">\n<title>(&#39;Compartments&#39;, &#39;1&#39;, &#39;Shared Environment&#39;)&#45;&gt;(&#39;Compartments&#39;, &#39;1&#39;, &#39;Shared Environment&#39;, &#39;concentrations&#39;)</title>\n<path fill=\"none\" stroke=\"black\" stroke-width=\"2\" d=\"M409.13,-229.45C418.66,-212.75 428.9,-194.81 437.74,-179.33\"/>\n</g>\n<!-- (&#39;Compartments&#39;, &#39;1&#39;, &#39;Shared Environment&#39;, &#39;counts&#39;, &#39;glucose&#39;) -->\n<g id=\"node17\" class=\"node\">\n<title>(&#39;Compartments&#39;, &#39;1&#39;, &#39;Shared Environment&#39;, &#39;counts&#39;, &#39;glucose&#39;)</title>\n<ellipse fill=\"none\" stroke=\"black\" stroke-width=\"2\" cx=\"302.9\" cy=\"-26.9\" rx=\"26.9\" ry=\"26.9\"/>\n<text text-anchor=\"start\" x=\"284.9\" y=\"-22.62\" font-family=\"Times,serif\" font-size=\"12.00\">glucose</text>\n</g>\n<!-- (&#39;Compartments&#39;, &#39;1&#39;, &#39;Shared Environment&#39;, &#39;counts&#39;)&#45;&gt;(&#39;Compartments&#39;, &#39;1&#39;, &#39;Shared Environment&#39;, &#39;counts&#39;, &#39;glucose&#39;) -->\n<g id=\"edge16\" class=\"edge\">\n<title>(&#39;Compartments&#39;, &#39;1&#39;, &#39;Shared Environment&#39;, &#39;counts&#39;)&#45;&gt;(&#39;Compartments&#39;, &#39;1&#39;, &#39;Shared Environment&#39;, &#39;counts&#39;, &#39;glucose&#39;)</title>\n<path fill=\"none\" stroke=\"black\" stroke-width=\"2\" d=\"M359.24,-116.8C347.33,-98.01 329.53,-69.93 317.14,-50.37\"/>\n</g>\n<!-- (&#39;Compartments&#39;, &#39;1&#39;, &#39;Shared Environment&#39;, &#39;counts&#39;, &#39;acetate&#39;) -->\n<g id=\"node18\" class=\"node\">\n<title>(&#39;Compartments&#39;, &#39;1&#39;, &#39;Shared Environment&#39;, &#39;counts&#39;, &#39;acetate&#39;)</title>\n<ellipse fill=\"none\" stroke=\"black\" stroke-width=\"2\" cx=\"371.9\" cy=\"-26.9\" rx=\"24.56\" ry=\"24.56\"/>\n<text text-anchor=\"start\" x=\"355.77\" y=\"-22.62\" font-family=\"Times,serif\" font-size=\"12.00\">acetate</text>\n</g>\n<!-- (&#39;Compartments&#39;, &#39;1&#39;, &#39;Shared Environment&#39;, &#39;counts&#39;)&#45;&gt;(&#39;Compartments&#39;, &#39;1&#39;, &#39;Shared Environment&#39;, &#39;counts&#39;, &#39;acetate&#39;) -->\n<g id=\"edge17\" class=\"edge\">\n<title>(&#39;Compartments&#39;, &#39;1&#39;, &#39;Shared Environment&#39;, &#39;counts&#39;)&#45;&gt;(&#39;Compartments&#39;, &#39;1&#39;, &#39;Shared Environment&#39;, &#39;counts&#39;, &#39;acetate&#39;)</title>\n<path fill=\"none\" stroke=\"black\" stroke-width=\"2\" d=\"M371.9,-113.14C371.9,-95.13 371.9,-70.41 371.9,-52.23\"/>\n</g>\n<!-- (&#39;Compartments&#39;, &#39;1&#39;, &#39;Shared Environment&#39;, &#39;concentrations&#39;, &#39;glucose&#39;) -->\n<g id=\"node20\" class=\"node\">\n<title>(&#39;Compartments&#39;, &#39;1&#39;, &#39;Shared Environment&#39;, &#39;concentrations&#39;, &#39;glucose&#39;)</title>\n<ellipse fill=\"none\" stroke=\"black\" stroke-width=\"2\" cx=\"440.9\" cy=\"-26.9\" rx=\"26.9\" ry=\"26.9\"/>\n<text text-anchor=\"start\" x=\"422.9\" y=\"-22.62\" font-family=\"Times,serif\" font-size=\"12.00\">glucose</text>\n</g>\n<!-- (&#39;Compartments&#39;, &#39;1&#39;, &#39;Shared Environment&#39;, &#39;concentrations&#39;)&#45;&gt;(&#39;Compartments&#39;, &#39;1&#39;, &#39;Shared Environment&#39;, &#39;concentrations&#39;, &#39;glucose&#39;) -->\n<g id=\"edge19\" class=\"edge\">\n<title>(&#39;Compartments&#39;, &#39;1&#39;, &#39;Shared Environment&#39;, &#39;concentrations&#39;)&#45;&gt;(&#39;Compartments&#39;, &#39;1&#39;, &#39;Shared Environment&#39;, &#39;concentrations&#39;, &#39;glucose&#39;)</title>\n<path fill=\"none\" stroke=\"black\" stroke-width=\"2\" d=\"M452.41,-90.59C450.14,-78.19 447.75,-65.2 445.74,-54.29\"/>\n</g>\n<!-- (&#39;Compartments&#39;, &#39;1&#39;, &#39;Shared Environment&#39;, &#39;concentrations&#39;, &#39;acetate&#39;) -->\n<g id=\"node21\" class=\"node\">\n<title>(&#39;Compartments&#39;, &#39;1&#39;, &#39;Shared Environment&#39;, &#39;concentrations&#39;, &#39;acetate&#39;)</title>\n<ellipse fill=\"none\" stroke=\"black\" stroke-width=\"2\" cx=\"509.9\" cy=\"-26.9\" rx=\"24.56\" ry=\"24.56\"/>\n<text text-anchor=\"start\" x=\"493.77\" y=\"-22.62\" font-family=\"Times,serif\" font-size=\"12.00\">acetate</text>\n</g>\n<!-- (&#39;Compartments&#39;, &#39;1&#39;, &#39;Shared Environment&#39;, &#39;concentrations&#39;)&#45;&gt;(&#39;Compartments&#39;, &#39;1&#39;, &#39;Shared Environment&#39;, &#39;concentrations&#39;, &#39;acetate&#39;) -->\n<g id=\"edge20\" class=\"edge\">\n<title>(&#39;Compartments&#39;, &#39;1&#39;, &#39;Shared Environment&#39;, &#39;concentrations&#39;)&#45;&gt;(&#39;Compartments&#39;, &#39;1&#39;, &#39;Shared Environment&#39;, &#39;concentrations&#39;, &#39;acetate&#39;)</title>\n<path fill=\"none\" stroke=\"black\" stroke-width=\"2\" d=\"M480.12,-94.05C486.88,-79.04 494.2,-62.78 499.89,-50.13\"/>\n</g>\n<!-- (&#39;Compartments&#39;, &#39;2&#39;, &#39;position&#39;) -->\n<g id=\"node23\" class=\"node\">\n<title>(&#39;Compartments&#39;, &#39;2&#39;, &#39;position&#39;)</title>\n<ellipse fill=\"none\" stroke=\"black\" stroke-width=\"2\" cx=\"493.9\" cy=\"-286.92\" rx=\"27.83\" ry=\"27.83\"/>\n<text text-anchor=\"start\" x=\"475.15\" y=\"-282.65\" font-family=\"Times,serif\" font-size=\"12.00\">position</text>\n</g>\n<!-- (&#39;Compartments&#39;, &#39;2&#39;)&#45;&gt;(&#39;Compartments&#39;, &#39;2&#39;, &#39;position&#39;) -->\n<g id=\"edge22\" class=\"edge\">\n<title>(&#39;Compartments&#39;, &#39;2&#39;)&#45;&gt;(&#39;Compartments&#39;, &#39;2&#39;, &#39;position&#39;)</title>\n<path fill=\"none\" stroke=\"black\" stroke-width=\"2\" d=\"M522.95,-388.92C517.32,-369.33 508.04,-337.08 501.48,-314.3\"/>\n</g>\n<!-- (&#39;Compartments&#39;, &#39;2&#39;, &#39;Shared Environment&#39;) -->\n<g id=\"node24\" class=\"node\">\n<title>(&#39;Compartments&#39;, &#39;2&#39;, &#39;Shared Environment&#39;)</title>\n<ellipse fill=\"none\" stroke=\"black\" stroke-width=\"2\" cx=\"604.9\" cy=\"-286.92\" rx=\"65.18\" ry=\"65.18\"/>\n<text text-anchor=\"start\" x=\"556.15\" y=\"-282.65\" font-family=\"Times,serif\" font-size=\"12.00\">Shared Environment</text>\n</g>\n<!-- (&#39;Compartments&#39;, &#39;2&#39;)&#45;&gt;(&#39;Compartments&#39;, &#39;2&#39;, &#39;Shared Environment&#39;) -->\n<g id=\"edge23\" class=\"edge\">\n<title>(&#39;Compartments&#39;, &#39;2&#39;)&#45;&gt;(&#39;Compartments&#39;, &#39;2&#39;, &#39;Shared Environment&#39;)</title>\n<path fill=\"none\" stroke=\"black\" stroke-width=\"2\" d=\"M537.65,-391.14C545.7,-378.78 557.65,-360.43 569.26,-342.62\"/>\n</g>\n<!-- (&#39;Compartments&#39;, &#39;2&#39;, &#39;Shared Environment&#39;, &#39;volume&#39;) -->\n<g id=\"node25\" class=\"node\">\n<title>(&#39;Compartments&#39;, &#39;2&#39;, &#39;Shared Environment&#39;, &#39;volume&#39;)</title>\n<ellipse fill=\"none\" stroke=\"black\" stroke-width=\"2\" cx=\"555.9\" cy=\"-137.76\" rx=\"26.43\" ry=\"26.43\"/>\n<text text-anchor=\"start\" x=\"538.27\" y=\"-133.49\" font-family=\"Times,serif\" font-size=\"12.00\">volume</text>\n</g>\n<!-- (&#39;Compartments&#39;, &#39;2&#39;, &#39;Shared Environment&#39;)&#45;&gt;(&#39;Compartments&#39;, &#39;2&#39;, &#39;Shared Environment&#39;, &#39;volume&#39;) -->\n<g id=\"edge24\" class=\"edge\">\n<title>(&#39;Compartments&#39;, &#39;2&#39;, &#39;Shared Environment&#39;)&#45;&gt;(&#39;Compartments&#39;, &#39;2&#39;, &#39;Shared Environment&#39;, &#39;volume&#39;)</title>\n<path fill=\"none\" stroke=\"black\" stroke-width=\"2\" d=\"M584.4,-224.37C577.32,-203.1 569.78,-180.46 564.23,-163.81\"/>\n</g>\n<!-- (&#39;Compartments&#39;, &#39;2&#39;, &#39;Shared Environment&#39;, &#39;counts&#39;) -->\n<g id=\"node26\" class=\"node\">\n<title>(&#39;Compartments&#39;, &#39;2&#39;, &#39;Shared Environment&#39;, &#39;counts&#39;)</title>\n<ellipse fill=\"none\" stroke=\"black\" stroke-width=\"2\" cx=\"623.9\" cy=\"-137.76\" rx=\"23.63\" ry=\"23.63\"/>\n<text text-anchor=\"start\" x=\"608.52\" y=\"-133.49\" font-family=\"Times,serif\" font-size=\"12.00\">counts</text>\n</g>\n<!-- (&#39;Compartments&#39;, &#39;2&#39;, &#39;Shared Environment&#39;)&#45;&gt;(&#39;Compartments&#39;, &#39;2&#39;, &#39;Shared Environment&#39;, &#39;counts&#39;) -->\n<g id=\"edge25\" class=\"edge\">\n<title>(&#39;Compartments&#39;, &#39;2&#39;, &#39;Shared Environment&#39;)&#45;&gt;(&#39;Compartments&#39;, &#39;2&#39;, &#39;Shared Environment&#39;, &#39;counts&#39;)</title>\n<path fill=\"none\" stroke=\"black\" stroke-width=\"2\" d=\"M613.23,-221.38C615.96,-200.22 618.82,-178.05 620.89,-162\"/>\n</g>\n<!-- (&#39;Compartments&#39;, &#39;2&#39;, &#39;Shared Environment&#39;, &#39;concentrations&#39;) -->\n<g id=\"node29\" class=\"node\">\n<title>(&#39;Compartments&#39;, &#39;2&#39;, &#39;Shared Environment&#39;, &#39;concentrations&#39;)</title>\n<ellipse fill=\"none\" stroke=\"black\" stroke-width=\"2\" cx=\"716.9\" cy=\"-137.76\" rx=\"46.97\" ry=\"46.97\"/>\n<text text-anchor=\"start\" x=\"682.77\" y=\"-133.49\" font-family=\"Times,serif\" font-size=\"12.00\">concentrations</text>\n</g>\n<!-- (&#39;Compartments&#39;, &#39;2&#39;, &#39;Shared Environment&#39;)&#45;&gt;(&#39;Compartments&#39;, &#39;2&#39;, &#39;Shared Environment&#39;, &#39;concentrations&#39;) -->\n<g id=\"edge28\" class=\"edge\">\n<title>(&#39;Compartments&#39;, &#39;2&#39;, &#39;Shared Environment&#39;)&#45;&gt;(&#39;Compartments&#39;, &#39;2&#39;, &#39;Shared Environment&#39;, &#39;concentrations&#39;)</title>\n<path fill=\"none\" stroke=\"black\" stroke-width=\"2\" d=\"M644.38,-234.04C658.99,-214.84 675.25,-193.48 688.66,-175.86\"/>\n</g>\n<!-- (&#39;Compartments&#39;, &#39;2&#39;, &#39;Shared Environment&#39;, &#39;counts&#39;, &#39;glucose&#39;) -->\n<g id=\"node27\" class=\"node\">\n<title>(&#39;Compartments&#39;, &#39;2&#39;, &#39;Shared Environment&#39;, &#39;counts&#39;, &#39;glucose&#39;)</title>\n<ellipse fill=\"none\" stroke=\"black\" stroke-width=\"2\" cx=\"578.9\" cy=\"-26.9\" rx=\"26.9\" ry=\"26.9\"/>\n<text text-anchor=\"start\" x=\"560.9\" y=\"-22.62\" font-family=\"Times,serif\" font-size=\"12.00\">glucose</text>\n</g>\n<!-- (&#39;Compartments&#39;, &#39;2&#39;, &#39;Shared Environment&#39;, &#39;counts&#39;)&#45;&gt;(&#39;Compartments&#39;, &#39;2&#39;, &#39;Shared Environment&#39;, &#39;counts&#39;, &#39;glucose&#39;) -->\n<g id=\"edge26\" class=\"edge\">\n<title>(&#39;Compartments&#39;, &#39;2&#39;, &#39;Shared Environment&#39;, &#39;counts&#39;)&#45;&gt;(&#39;Compartments&#39;, &#39;2&#39;, &#39;Shared Environment&#39;, &#39;counts&#39;, &#39;glucose&#39;)</title>\n<path fill=\"none\" stroke=\"black\" stroke-width=\"2\" d=\"M614.9,-115C607.46,-97 596.9,-71.45 589.14,-52.67\"/>\n</g>\n<!-- (&#39;Compartments&#39;, &#39;2&#39;, &#39;Shared Environment&#39;, &#39;counts&#39;, &#39;acetate&#39;) -->\n<g id=\"node28\" class=\"node\">\n<title>(&#39;Compartments&#39;, &#39;2&#39;, &#39;Shared Environment&#39;, &#39;counts&#39;, &#39;acetate&#39;)</title>\n<ellipse fill=\"none\" stroke=\"black\" stroke-width=\"2\" cx=\"647.9\" cy=\"-26.9\" rx=\"24.56\" ry=\"24.56\"/>\n<text text-anchor=\"start\" x=\"631.77\" y=\"-22.62\" font-family=\"Times,serif\" font-size=\"12.00\">acetate</text>\n</g>\n<!-- (&#39;Compartments&#39;, &#39;2&#39;, &#39;Shared Environment&#39;, &#39;counts&#39;)&#45;&gt;(&#39;Compartments&#39;, &#39;2&#39;, &#39;Shared Environment&#39;, &#39;counts&#39;, &#39;acetate&#39;) -->\n<g id=\"edge27\" class=\"edge\">\n<title>(&#39;Compartments&#39;, &#39;2&#39;, &#39;Shared Environment&#39;, &#39;counts&#39;)&#45;&gt;(&#39;Compartments&#39;, &#39;2&#39;, &#39;Shared Environment&#39;, &#39;counts&#39;, &#39;acetate&#39;)</title>\n<path fill=\"none\" stroke=\"black\" stroke-width=\"2\" d=\"M628.99,-113.68C633,-95.45 638.59,-70.11 642.65,-51.7\"/>\n</g>\n<!-- (&#39;Compartments&#39;, &#39;2&#39;, &#39;Shared Environment&#39;, &#39;concentrations&#39;, &#39;glucose&#39;) -->\n<g id=\"node30\" class=\"node\">\n<title>(&#39;Compartments&#39;, &#39;2&#39;, &#39;Shared Environment&#39;, &#39;concentrations&#39;, &#39;glucose&#39;)</title>\n<ellipse fill=\"none\" stroke=\"black\" stroke-width=\"2\" cx=\"716.9\" cy=\"-26.9\" rx=\"26.9\" ry=\"26.9\"/>\n<text text-anchor=\"start\" x=\"698.9\" y=\"-22.62\" font-family=\"Times,serif\" font-size=\"12.00\">glucose</text>\n</g>\n<!-- (&#39;Compartments&#39;, &#39;2&#39;, &#39;Shared Environment&#39;, &#39;concentrations&#39;)&#45;&gt;(&#39;Compartments&#39;, &#39;2&#39;, &#39;Shared Environment&#39;, &#39;concentrations&#39;, &#39;glucose&#39;) -->\n<g id=\"edge29\" class=\"edge\">\n<title>(&#39;Compartments&#39;, &#39;2&#39;, &#39;Shared Environment&#39;, &#39;concentrations&#39;)&#45;&gt;(&#39;Compartments&#39;, &#39;2&#39;, &#39;Shared Environment&#39;, &#39;concentrations&#39;, &#39;glucose&#39;)</title>\n<path fill=\"none\" stroke=\"black\" stroke-width=\"2\" d=\"M716.9,-89.96C716.9,-77.86 716.9,-65.24 716.9,-54.57\"/>\n</g>\n<!-- (&#39;Compartments&#39;, &#39;2&#39;, &#39;Shared Environment&#39;, &#39;concentrations&#39;, &#39;acetate&#39;) -->\n<g id=\"node31\" class=\"node\">\n<title>(&#39;Compartments&#39;, &#39;2&#39;, &#39;Shared Environment&#39;, &#39;concentrations&#39;, &#39;acetate&#39;)</title>\n<ellipse fill=\"none\" stroke=\"black\" stroke-width=\"2\" cx=\"785.9\" cy=\"-26.9\" rx=\"24.56\" ry=\"24.56\"/>\n<text text-anchor=\"start\" x=\"769.77\" y=\"-22.62\" font-family=\"Times,serif\" font-size=\"12.00\">acetate</text>\n</g>\n<!-- (&#39;Compartments&#39;, &#39;2&#39;, &#39;Shared Environment&#39;, &#39;concentrations&#39;)&#45;&gt;(&#39;Compartments&#39;, &#39;2&#39;, &#39;Shared Environment&#39;, &#39;concentrations&#39;, &#39;acetate&#39;) -->\n<g id=\"edge30\" class=\"edge\">\n<title>(&#39;Compartments&#39;, &#39;2&#39;, &#39;Shared Environment&#39;, &#39;concentrations&#39;)&#45;&gt;(&#39;Compartments&#39;, &#39;2&#39;, &#39;Shared Environment&#39;, &#39;concentrations&#39;, &#39;acetate&#39;)</title>\n<path fill=\"none\" stroke=\"black\" stroke-width=\"2\" d=\"M742,-97.15C752.41,-80.74 764.04,-62.38 772.72,-48.68\"/>\n</g>\n<!-- (&#39;Compartments&#39;, &#39;3&#39;, &#39;position&#39;) -->\n<g id=\"node33\" class=\"node\">\n<title>(&#39;Compartments&#39;, &#39;3&#39;, &#39;position&#39;)</title>\n<ellipse fill=\"none\" stroke=\"black\" stroke-width=\"2\" cx=\"715.9\" cy=\"-286.92\" rx=\"27.83\" ry=\"27.83\"/>\n<text text-anchor=\"start\" x=\"697.15\" y=\"-282.65\" font-family=\"Times,serif\" font-size=\"12.00\">position</text>\n</g>\n<!-- (&#39;Compartments&#39;, &#39;3&#39;)&#45;&gt;(&#39;Compartments&#39;, &#39;3&#39;, &#39;position&#39;) -->\n<g id=\"edge32\" class=\"edge\">\n<title>(&#39;Compartments&#39;, &#39;3&#39;)&#45;&gt;(&#39;Compartments&#39;, &#39;3&#39;, &#39;position&#39;)</title>\n<path fill=\"none\" stroke=\"black\" stroke-width=\"2\" d=\"M715.9,-388.16C715.9,-368.91 715.9,-338.12 715.9,-315.73\"/>\n</g>\n<!-- (&#39;Compartments&#39;, &#39;3&#39;, &#39;Shared Environment&#39;) -->\n<g id=\"node34\" class=\"node\">\n<title>(&#39;Compartments&#39;, &#39;3&#39;, &#39;Shared Environment&#39;)</title>\n<ellipse fill=\"none\" stroke=\"black\" stroke-width=\"2\" cx=\"826.9\" cy=\"-286.92\" rx=\"65.18\" ry=\"65.18\"/>\n<text text-anchor=\"start\" x=\"778.15\" y=\"-282.65\" font-family=\"Times,serif\" font-size=\"12.00\">Shared Environment</text>\n</g>\n<!-- (&#39;Compartments&#39;, &#39;3&#39;)&#45;&gt;(&#39;Compartments&#39;, &#39;3&#39;, &#39;Shared Environment&#39;) -->\n<g id=\"edge33\" class=\"edge\">\n<title>(&#39;Compartments&#39;, &#39;3&#39;)&#45;&gt;(&#39;Compartments&#39;, &#39;3&#39;, &#39;Shared Environment&#39;)</title>\n<path fill=\"none\" stroke=\"black\" stroke-width=\"2\" d=\"M728.2,-393.01C741.24,-379.12 762.6,-356.38 782.12,-335.59\"/>\n</g>\n<!-- (&#39;Compartments&#39;, &#39;3&#39;, &#39;Shared Environment&#39;, &#39;volume&#39;) -->\n<g id=\"node35\" class=\"node\">\n<title>(&#39;Compartments&#39;, &#39;3&#39;, &#39;Shared Environment&#39;, &#39;volume&#39;)</title>\n<ellipse fill=\"none\" stroke=\"black\" stroke-width=\"2\" cx=\"822.9\" cy=\"-137.76\" rx=\"26.43\" ry=\"26.43\"/>\n<text text-anchor=\"start\" x=\"805.27\" y=\"-133.49\" font-family=\"Times,serif\" font-size=\"12.00\">volume</text>\n</g>\n<!-- (&#39;Compartments&#39;, &#39;3&#39;, &#39;Shared Environment&#39;)&#45;&gt;(&#39;Compartments&#39;, &#39;3&#39;, &#39;Shared Environment&#39;, &#39;volume&#39;) -->\n<g id=\"edge34\" class=\"edge\">\n<title>(&#39;Compartments&#39;, &#39;3&#39;, &#39;Shared Environment&#39;)&#45;&gt;(&#39;Compartments&#39;, &#39;3&#39;, &#39;Shared Environment&#39;, &#39;volume&#39;)</title>\n<path fill=\"none\" stroke=\"black\" stroke-width=\"2\" d=\"M825.13,-220.95C824.59,-201.24 824.04,-180.69 823.61,-165.07\"/>\n</g>\n<!-- (&#39;Compartments&#39;, &#39;3&#39;, &#39;Shared Environment&#39;, &#39;counts&#39;) -->\n<g id=\"node36\" class=\"node\">\n<title>(&#39;Compartments&#39;, &#39;3&#39;, &#39;Shared Environment&#39;, &#39;counts&#39;)</title>\n<ellipse fill=\"none\" stroke=\"black\" stroke-width=\"2\" cx=\"890.9\" cy=\"-137.76\" rx=\"23.63\" ry=\"23.63\"/>\n<text text-anchor=\"start\" x=\"875.52\" y=\"-133.49\" font-family=\"Times,serif\" font-size=\"12.00\">counts</text>\n</g>\n<!-- (&#39;Compartments&#39;, &#39;3&#39;, &#39;Shared Environment&#39;)&#45;&gt;(&#39;Compartments&#39;, &#39;3&#39;, &#39;Shared Environment&#39;, &#39;counts&#39;) -->\n<g id=\"edge35\" class=\"edge\">\n<title>(&#39;Compartments&#39;, &#39;3&#39;, &#39;Shared Environment&#39;)&#45;&gt;(&#39;Compartments&#39;, &#39;3&#39;, &#39;Shared Environment&#39;, &#39;counts&#39;)</title>\n<path fill=\"none\" stroke=\"black\" stroke-width=\"2\" d=\"M852.74,-226.49C862.94,-203.04 874.01,-177.6 881.58,-160.18\"/>\n</g>\n<!-- (&#39;Compartments&#39;, &#39;3&#39;, &#39;Shared Environment&#39;, &#39;concentrations&#39;) -->\n<g id=\"node39\" class=\"node\">\n<title>(&#39;Compartments&#39;, &#39;3&#39;, &#39;Shared Environment&#39;, &#39;concentrations&#39;)</title>\n<ellipse fill=\"none\" stroke=\"black\" stroke-width=\"2\" cx=\"992.9\" cy=\"-137.76\" rx=\"46.97\" ry=\"46.97\"/>\n<text text-anchor=\"start\" x=\"958.77\" y=\"-133.49\" font-family=\"Times,serif\" font-size=\"12.00\">concentrations</text>\n</g>\n<!-- (&#39;Compartments&#39;, &#39;3&#39;, &#39;Shared Environment&#39;)&#45;&gt;(&#39;Compartments&#39;, &#39;3&#39;, &#39;Shared Environment&#39;, &#39;concentrations&#39;) -->\n<g id=\"edge38\" class=\"edge\">\n<title>(&#39;Compartments&#39;, &#39;3&#39;, &#39;Shared Environment&#39;)&#45;&gt;(&#39;Compartments&#39;, &#39;3&#39;, &#39;Shared Environment&#39;, &#39;concentrations&#39;)</title>\n<path fill=\"none\" stroke=\"black\" stroke-width=\"2\" d=\"M875.8,-242.57C902.01,-219.34 933.7,-191.24 957.5,-170.14\"/>\n</g>\n<!-- (&#39;Compartments&#39;, &#39;3&#39;, &#39;Shared Environment&#39;, &#39;counts&#39;, &#39;glucose&#39;) -->\n<g id=\"node37\" class=\"node\">\n<title>(&#39;Compartments&#39;, &#39;3&#39;, &#39;Shared Environment&#39;, &#39;counts&#39;, &#39;glucose&#39;)</title>\n<ellipse fill=\"none\" stroke=\"black\" stroke-width=\"2\" cx=\"854.9\" cy=\"-26.9\" rx=\"26.9\" ry=\"26.9\"/>\n<text text-anchor=\"start\" x=\"836.9\" y=\"-22.62\" font-family=\"Times,serif\" font-size=\"12.00\">glucose</text>\n</g>\n<!-- (&#39;Compartments&#39;, &#39;3&#39;, &#39;Shared Environment&#39;, &#39;counts&#39;)&#45;&gt;(&#39;Compartments&#39;, &#39;3&#39;, &#39;Shared Environment&#39;, &#39;counts&#39;, &#39;glucose&#39;) -->\n<g id=\"edge36\" class=\"edge\">\n<title>(&#39;Compartments&#39;, &#39;3&#39;, &#39;Shared Environment&#39;, &#39;counts&#39;)&#45;&gt;(&#39;Compartments&#39;, &#39;3&#39;, &#39;Shared Environment&#39;, &#39;counts&#39;, &#39;glucose&#39;)</title>\n<path fill=\"none\" stroke=\"black\" stroke-width=\"2\" d=\"M883.52,-114.47C877.64,-96.68 869.4,-71.75 863.27,-53.21\"/>\n</g>\n<!-- (&#39;Compartments&#39;, &#39;3&#39;, &#39;Shared Environment&#39;, &#39;counts&#39;, &#39;acetate&#39;) -->\n<g id=\"node38\" class=\"node\">\n<title>(&#39;Compartments&#39;, &#39;3&#39;, &#39;Shared Environment&#39;, &#39;counts&#39;, &#39;acetate&#39;)</title>\n<ellipse fill=\"none\" stroke=\"black\" stroke-width=\"2\" cx=\"923.9\" cy=\"-26.9\" rx=\"24.56\" ry=\"24.56\"/>\n<text text-anchor=\"start\" x=\"907.77\" y=\"-22.62\" font-family=\"Times,serif\" font-size=\"12.00\">acetate</text>\n</g>\n<!-- (&#39;Compartments&#39;, &#39;3&#39;, &#39;Shared Environment&#39;, &#39;counts&#39;)&#45;&gt;(&#39;Compartments&#39;, &#39;3&#39;, &#39;Shared Environment&#39;, &#39;counts&#39;, &#39;acetate&#39;) -->\n<g id=\"edge37\" class=\"edge\">\n<title>(&#39;Compartments&#39;, &#39;3&#39;, &#39;Shared Environment&#39;, &#39;counts&#39;)&#45;&gt;(&#39;Compartments&#39;, &#39;3&#39;, &#39;Shared Environment&#39;, &#39;counts&#39;, &#39;acetate&#39;)</title>\n<path fill=\"none\" stroke=\"black\" stroke-width=\"2\" d=\"M897.73,-114.21C903.32,-95.77 911.19,-69.8 916.84,-51.18\"/>\n</g>\n<!-- (&#39;Compartments&#39;, &#39;3&#39;, &#39;Shared Environment&#39;, &#39;concentrations&#39;, &#39;glucose&#39;) -->\n<g id=\"node40\" class=\"node\">\n<title>(&#39;Compartments&#39;, &#39;3&#39;, &#39;Shared Environment&#39;, &#39;concentrations&#39;, &#39;glucose&#39;)</title>\n<ellipse fill=\"none\" stroke=\"black\" stroke-width=\"2\" cx=\"992.9\" cy=\"-26.9\" rx=\"26.9\" ry=\"26.9\"/>\n<text text-anchor=\"start\" x=\"974.9\" y=\"-22.62\" font-family=\"Times,serif\" font-size=\"12.00\">glucose</text>\n</g>\n<!-- (&#39;Compartments&#39;, &#39;3&#39;, &#39;Shared Environment&#39;, &#39;concentrations&#39;)&#45;&gt;(&#39;Compartments&#39;, &#39;3&#39;, &#39;Shared Environment&#39;, &#39;concentrations&#39;, &#39;glucose&#39;) -->\n<g id=\"edge39\" class=\"edge\">\n<title>(&#39;Compartments&#39;, &#39;3&#39;, &#39;Shared Environment&#39;, &#39;concentrations&#39;)&#45;&gt;(&#39;Compartments&#39;, &#39;3&#39;, &#39;Shared Environment&#39;, &#39;concentrations&#39;, &#39;glucose&#39;)</title>\n<path fill=\"none\" stroke=\"black\" stroke-width=\"2\" d=\"M992.9,-89.96C992.9,-77.86 992.9,-65.24 992.9,-54.57\"/>\n</g>\n<!-- (&#39;Compartments&#39;, &#39;3&#39;, &#39;Shared Environment&#39;, &#39;concentrations&#39;, &#39;acetate&#39;) -->\n<g id=\"node41\" class=\"node\">\n<title>(&#39;Compartments&#39;, &#39;3&#39;, &#39;Shared Environment&#39;, &#39;concentrations&#39;, &#39;acetate&#39;)</title>\n<ellipse fill=\"none\" stroke=\"black\" stroke-width=\"2\" cx=\"1061.9\" cy=\"-26.9\" rx=\"24.56\" ry=\"24.56\"/>\n<text text-anchor=\"start\" x=\"1045.77\" y=\"-22.62\" font-family=\"Times,serif\" font-size=\"12.00\">acetate</text>\n</g>\n<!-- (&#39;Compartments&#39;, &#39;3&#39;, &#39;Shared Environment&#39;, &#39;concentrations&#39;)&#45;&gt;(&#39;Compartments&#39;, &#39;3&#39;, &#39;Shared Environment&#39;, &#39;concentrations&#39;, &#39;acetate&#39;) -->\n<g id=\"edge40\" class=\"edge\">\n<title>(&#39;Compartments&#39;, &#39;3&#39;, &#39;Shared Environment&#39;, &#39;concentrations&#39;)&#45;&gt;(&#39;Compartments&#39;, &#39;3&#39;, &#39;Shared Environment&#39;, &#39;concentrations&#39;, &#39;acetate&#39;)</title>\n<path fill=\"none\" stroke=\"black\" stroke-width=\"2\" d=\"M1018,-97.15C1028.41,-80.74 1040.04,-62.38 1048.72,-48.68\"/>\n</g>\n<!-- (&#39;Edges&#39;,) -->\n<g id=\"node42\" class=\"node\">\n<title>(&#39;Edges&#39;,)</title>\n<ellipse fill=\"none\" stroke=\"black\" stroke-width=\"2\" cx=\"1297.9\" cy=\"-519.8\" rx=\"22.69\" ry=\"22.69\"/>\n<text text-anchor=\"start\" x=\"1283.27\" y=\"-515.52\" font-family=\"Times,serif\" font-size=\"12.00\">Edges</text>\n</g>\n<!-- (&#39;Edges&#39;, &#39;1&#39;) -->\n<g id=\"node43\" class=\"node\">\n<title>(&#39;Edges&#39;, &#39;1&#39;)</title>\n<ellipse fill=\"none\" stroke=\"black\" stroke-width=\"2\" cx=\"1080.9\" cy=\"-407.11\" rx=\"18\" ry=\"18\"/>\n<text text-anchor=\"start\" x=\"1077.9\" y=\"-402.83\" font-family=\"Times,serif\" font-size=\"12.00\">1</text>\n</g>\n<!-- (&#39;Edges&#39;,)&#45;&gt;(&#39;Edges&#39;, &#39;1&#39;) -->\n<g id=\"edge41\" class=\"edge\">\n<title>(&#39;Edges&#39;,)&#45;&gt;(&#39;Edges&#39;, &#39;1&#39;)</title>\n<path fill=\"none\" stroke=\"black\" stroke-width=\"2\" d=\"M1277.48,-508.38C1234.65,-486.53 1136.13,-436.28 1097.18,-416.41\"/>\n</g>\n<!-- (&#39;Edges&#39;, &#39;2&#39;) -->\n<g id=\"node47\" class=\"node\">\n<title>(&#39;Edges&#39;, &#39;2&#39;)</title>\n<ellipse fill=\"none\" stroke=\"black\" stroke-width=\"2\" cx=\"1297.9\" cy=\"-407.11\" rx=\"18\" ry=\"18\"/>\n<text text-anchor=\"middle\" x=\"1297.9\" y=\"-402.83\" font-family=\"Times,serif\" font-size=\"12.00\">2</text>\n</g>\n<!-- (&#39;Edges&#39;,)&#45;&gt;(&#39;Edges&#39;, &#39;2&#39;) -->\n<g id=\"edge45\" class=\"edge\">\n<title>(&#39;Edges&#39;,)&#45;&gt;(&#39;Edges&#39;, &#39;2&#39;)</title>\n<path fill=\"none\" stroke=\"black\" stroke-width=\"2\" d=\"M1297.9,-496.13C1297.9,-475.38 1297.9,-445.09 1297.9,-426\"/>\n</g>\n<!-- (&#39;Edges&#39;, &#39;3&#39;) -->\n<g id=\"node51\" class=\"node\">\n<title>(&#39;Edges&#39;, &#39;3&#39;)</title>\n<ellipse fill=\"none\" stroke=\"black\" stroke-width=\"2\" cx=\"1512.9\" cy=\"-407.11\" rx=\"18\" ry=\"18\"/>\n<text text-anchor=\"start\" x=\"1509.9\" y=\"-402.83\" font-family=\"Times,serif\" font-size=\"12.00\">3</text>\n</g>\n<!-- (&#39;Edges&#39;,)&#45;&gt;(&#39;Edges&#39;, &#39;3&#39;) -->\n<g id=\"edge49\" class=\"edge\">\n<title>(&#39;Edges&#39;,)&#45;&gt;(&#39;Edges&#39;, &#39;3&#39;)</title>\n<path fill=\"none\" stroke=\"black\" stroke-width=\"2\" d=\"M1318.51,-508.18C1361.08,-486.27 1457.93,-436.41 1496.55,-416.52\"/>\n</g>\n<!-- (&#39;Edges&#39;, &#39;4&#39;) -->\n<g id=\"node55\" class=\"node\">\n<title>(&#39;Edges&#39;, &#39;4&#39;)</title>\n<ellipse fill=\"none\" stroke=\"black\" stroke-width=\"2\" cx=\"1772.9\" cy=\"-407.11\" rx=\"18\" ry=\"18\"/>\n<text text-anchor=\"start\" x=\"1769.9\" y=\"-402.83\" font-family=\"Times,serif\" font-size=\"12.00\">4</text>\n</g>\n<!-- (&#39;Edges&#39;,)&#45;&gt;(&#39;Edges&#39;, &#39;4&#39;) -->\n<g id=\"edge53\" class=\"edge\">\n<title>(&#39;Edges&#39;,)&#45;&gt;(&#39;Edges&#39;, &#39;4&#39;)</title>\n<path fill=\"none\" stroke=\"black\" stroke-width=\"2\" d=\"M1320.49,-513.53C1402.07,-494.52 1680.56,-429.62 1754.66,-412.36\"/>\n</g>\n<!-- (&#39;Edges&#39;,)&#45;&gt;(&#39;Simple Diffusion&#39;,) -->\n<g id=\"edge57\" class=\"edge\">\n<title>(&#39;Edges&#39;,)&#45;&gt;(&#39;Simple Diffusion&#39;,)</title>\n<path fill=\"none\" stroke=\"black\" stroke-dasharray=\"5,2\" d=\"M1275.38,-513.31C1206.99,-496.63 1000.19,-446.21 899.79,-421.74\"/>\n<polygon fill=\"black\" stroke=\"black\" points=\"900.69,-418.35 890.14,-419.38 899.03,-425.15 900.69,-418.35\"/>\n<text text-anchor=\"start\" x=\"1030.23\" y=\"-444.86\" font-family=\"Times,serif\" font-size=\"10.00\">edges</text>\n</g>\n<!-- (&#39;Edges&#39;, &#39;1&#39;, &#39;neighbors&#39;) -->\n<g id=\"node44\" class=\"node\">\n<title>(&#39;Edges&#39;, &#39;1&#39;, &#39;neighbors&#39;)</title>\n<ellipse fill=\"none\" stroke=\"black\" stroke-width=\"2\" cx=\"943.9\" cy=\"-286.92\" rx=\"33.43\" ry=\"33.43\"/>\n<text text-anchor=\"start\" x=\"920.65\" y=\"-282.65\" font-family=\"Times,serif\" font-size=\"12.00\">neighbors</text>\n</g>\n<!-- (&#39;Edges&#39;, &#39;1&#39;)&#45;&gt;(&#39;Edges&#39;, &#39;1&#39;, &#39;neighbors&#39;) -->\n<g id=\"edge42\" class=\"edge\">\n<title>(&#39;Edges&#39;, &#39;1&#39;)&#45;&gt;(&#39;Edges&#39;, &#39;1&#39;, &#39;neighbors&#39;)</title>\n<path fill=\"none\" stroke=\"black\" stroke-width=\"2\" d=\"M1063.76,-399.16C1043.66,-390.39 1010.15,-373.81 986.9,-352.11 976.21,-342.13 966.83,-329.01 959.58,-317.24\"/>\n</g>\n<!-- (&#39;Edges&#39;, &#39;1&#39;, &#39;surface_area&#39;) -->\n<g id=\"node45\" class=\"node\">\n<title>(&#39;Edges&#39;, &#39;1&#39;, &#39;surface_area&#39;)</title>\n<ellipse fill=\"none\" stroke=\"black\" stroke-width=\"2\" cx=\"1036.9\" cy=\"-286.92\" rx=\"41.37\" ry=\"41.37\"/>\n<text text-anchor=\"start\" x=\"1007.27\" y=\"-282.65\" font-family=\"Times,serif\" font-size=\"12.00\">surface_area</text>\n</g>\n<!-- (&#39;Edges&#39;, &#39;1&#39;)&#45;&gt;(&#39;Edges&#39;, &#39;1&#39;, &#39;surface_area&#39;) -->\n<g id=\"edge43\" class=\"edge\">\n<title>(&#39;Edges&#39;, &#39;1&#39;)&#45;&gt;(&#39;Edges&#39;, &#39;1&#39;, &#39;surface_area&#39;)</title>\n<path fill=\"none\" stroke=\"black\" stroke-width=\"2\" d=\"M1074.68,-389.42C1068.64,-373.2 1059.25,-347.96 1051.33,-326.71\"/>\n</g>\n<!-- (&#39;Edges&#39;, &#39;1&#39;, &#39;periodic&#39;) -->\n<g id=\"node46\" class=\"node\">\n<title>(&#39;Edges&#39;, &#39;1&#39;, &#39;periodic&#39;)</title>\n<ellipse fill=\"none\" stroke=\"black\" stroke-width=\"2\" cx=\"1124.9\" cy=\"-286.92\" rx=\"28.3\" ry=\"28.3\"/>\n<text text-anchor=\"start\" x=\"1105.77\" y=\"-282.65\" font-family=\"Times,serif\" font-size=\"12.00\">periodic</text>\n</g>\n<!-- (&#39;Edges&#39;, &#39;1&#39;)&#45;&gt;(&#39;Edges&#39;, &#39;1&#39;, &#39;periodic&#39;) -->\n<g id=\"edge44\" class=\"edge\">\n<title>(&#39;Edges&#39;, &#39;1&#39;)&#45;&gt;(&#39;Edges&#39;, &#39;1&#39;, &#39;periodic&#39;)</title>\n<path fill=\"none\" stroke=\"black\" stroke-width=\"2\" d=\"M1087.11,-389.42C1094.4,-369.83 1106.6,-337.08 1115.15,-314.09\"/>\n</g>\n<!-- (&#39;Edges&#39;, &#39;2&#39;, &#39;neighbors&#39;) -->\n<g id=\"node48\" class=\"node\">\n<title>(&#39;Edges&#39;, &#39;2&#39;, &#39;neighbors&#39;)</title>\n<ellipse fill=\"none\" stroke=\"black\" stroke-width=\"2\" cx=\"1204.9\" cy=\"-286.92\" rx=\"33.43\" ry=\"33.43\"/>\n<text text-anchor=\"start\" x=\"1181.65\" y=\"-282.65\" font-family=\"Times,serif\" font-size=\"12.00\">neighbors</text>\n</g>\n<!-- (&#39;Edges&#39;, &#39;2&#39;)&#45;&gt;(&#39;Edges&#39;, &#39;2&#39;, &#39;neighbors&#39;) -->\n<g id=\"edge46\" class=\"edge\">\n<title>(&#39;Edges&#39;, &#39;2&#39;)&#45;&gt;(&#39;Edges&#39;, &#39;2&#39;, &#39;neighbors&#39;)</title>\n<path fill=\"none\" stroke=\"black\" stroke-width=\"2\" d=\"M1284.97,-393.31C1274.5,-382.67 1259.62,-366.94 1247.9,-352.11 1239,-340.85 1230.03,-327.79 1222.6,-316.4\"/>\n</g>\n<!-- (&#39;Edges&#39;, &#39;2&#39;, &#39;surface_area&#39;) -->\n<g id=\"node49\" class=\"node\">\n<title>(&#39;Edges&#39;, &#39;2&#39;, &#39;surface_area&#39;)</title>\n<ellipse fill=\"none\" stroke=\"black\" stroke-width=\"2\" cx=\"1297.9\" cy=\"-286.92\" rx=\"41.37\" ry=\"41.37\"/>\n<text text-anchor=\"start\" x=\"1268.27\" y=\"-282.65\" font-family=\"Times,serif\" font-size=\"12.00\">surface_area</text>\n</g>\n<!-- (&#39;Edges&#39;, &#39;2&#39;)&#45;&gt;(&#39;Edges&#39;, &#39;2&#39;, &#39;surface_area&#39;) -->\n<g id=\"edge47\" class=\"edge\">\n<title>(&#39;Edges&#39;, &#39;2&#39;)&#45;&gt;(&#39;Edges&#39;, &#39;2&#39;, &#39;surface_area&#39;)</title>\n<path fill=\"none\" stroke=\"black\" stroke-width=\"2\" d=\"M1297.9,-388.16C1297.9,-372.53 1297.9,-349.28 1297.9,-329.11\"/>\n</g>\n<!-- (&#39;Edges&#39;, &#39;2&#39;, &#39;periodic&#39;) -->\n<g id=\"node50\" class=\"node\">\n<title>(&#39;Edges&#39;, &#39;2&#39;, &#39;periodic&#39;)</title>\n<ellipse fill=\"none\" stroke=\"black\" stroke-width=\"2\" cx=\"1385.9\" cy=\"-286.92\" rx=\"28.3\" ry=\"28.3\"/>\n<text text-anchor=\"start\" x=\"1366.77\" y=\"-282.65\" font-family=\"Times,serif\" font-size=\"12.00\">periodic</text>\n</g>\n<!-- (&#39;Edges&#39;, &#39;2&#39;)&#45;&gt;(&#39;Edges&#39;, &#39;2&#39;, &#39;periodic&#39;) -->\n<g id=\"edge48\" class=\"edge\">\n<title>(&#39;Edges&#39;, &#39;2&#39;)&#45;&gt;(&#39;Edges&#39;, &#39;2&#39;, &#39;periodic&#39;)</title>\n<path fill=\"none\" stroke=\"black\" stroke-width=\"2\" d=\"M1311.05,-393.48C1321.65,-382.95 1336.59,-367.27 1347.9,-352.11 1357.11,-339.75 1365.97,-325.02 1372.81,-312.78\"/>\n</g>\n<!-- (&#39;Edges&#39;, &#39;3&#39;, &#39;neighbors&#39;) -->\n<g id=\"node52\" class=\"node\">\n<title>(&#39;Edges&#39;, &#39;3&#39;, &#39;neighbors&#39;)</title>\n<ellipse fill=\"none\" stroke=\"black\" stroke-width=\"2\" cx=\"1465.9\" cy=\"-286.92\" rx=\"33.43\" ry=\"33.43\"/>\n<text text-anchor=\"start\" x=\"1442.65\" y=\"-282.65\" font-family=\"Times,serif\" font-size=\"12.00\">neighbors</text>\n</g>\n<!-- (&#39;Edges&#39;, &#39;3&#39;)&#45;&gt;(&#39;Edges&#39;, &#39;3&#39;, &#39;neighbors&#39;) -->\n<g id=\"edge50\" class=\"edge\">\n<title>(&#39;Edges&#39;, &#39;3&#39;)&#45;&gt;(&#39;Edges&#39;, &#39;3&#39;, &#39;neighbors&#39;)</title>\n<path fill=\"none\" stroke=\"black\" stroke-width=\"2\" d=\"M1506.26,-389.42C1498.97,-371.1 1487.11,-341.27 1478.13,-318.69\"/>\n</g>\n<!-- (&#39;Edges&#39;, &#39;3&#39;, &#39;surface_area&#39;) -->\n<g id=\"node53\" class=\"node\">\n<title>(&#39;Edges&#39;, &#39;3&#39;, &#39;surface_area&#39;)</title>\n<ellipse fill=\"none\" stroke=\"black\" stroke-width=\"2\" cx=\"1558.9\" cy=\"-286.92\" rx=\"41.37\" ry=\"41.37\"/>\n<text text-anchor=\"start\" x=\"1529.27\" y=\"-282.65\" font-family=\"Times,serif\" font-size=\"12.00\">surface_area</text>\n</g>\n<!-- (&#39;Edges&#39;, &#39;3&#39;)&#45;&gt;(&#39;Edges&#39;, &#39;3&#39;, &#39;surface_area&#39;) -->\n<g id=\"edge51\" class=\"edge\">\n<title>(&#39;Edges&#39;, &#39;3&#39;)&#45;&gt;(&#39;Edges&#39;, &#39;3&#39;, &#39;surface_area&#39;)</title>\n<path fill=\"none\" stroke=\"black\" stroke-width=\"2\" d=\"M1519.39,-389.42C1525.73,-373.14 1535.61,-347.76 1543.9,-326.46\"/>\n</g>\n<!-- (&#39;Edges&#39;, &#39;3&#39;, &#39;periodic&#39;) -->\n<g id=\"node54\" class=\"node\">\n<title>(&#39;Edges&#39;, &#39;3&#39;, &#39;periodic&#39;)</title>\n<ellipse fill=\"none\" stroke=\"black\" stroke-width=\"2\" cx=\"1646.9\" cy=\"-286.92\" rx=\"28.3\" ry=\"28.3\"/>\n<text text-anchor=\"start\" x=\"1627.77\" y=\"-282.65\" font-family=\"Times,serif\" font-size=\"12.00\">periodic</text>\n</g>\n<!-- (&#39;Edges&#39;, &#39;3&#39;)&#45;&gt;(&#39;Edges&#39;, &#39;3&#39;, &#39;periodic&#39;) -->\n<g id=\"edge52\" class=\"edge\">\n<title>(&#39;Edges&#39;, &#39;3&#39;)&#45;&gt;(&#39;Edges&#39;, &#39;3&#39;, &#39;periodic&#39;)</title>\n<path fill=\"none\" stroke=\"black\" stroke-width=\"2\" d=\"M1530.25,-399.61C1550.95,-391.19 1585.66,-374.84 1608.9,-352.11 1620,-341.24 1629.05,-326.46 1635.52,-313.82\"/>\n</g>\n<!-- (&#39;Edges&#39;, &#39;4&#39;, &#39;neighbors&#39;) -->\n<g id=\"node56\" class=\"node\">\n<title>(&#39;Edges&#39;, &#39;4&#39;, &#39;neighbors&#39;)</title>\n<ellipse fill=\"none\" stroke=\"black\" stroke-width=\"2\" cx=\"1726.9\" cy=\"-286.92\" rx=\"33.43\" ry=\"33.43\"/>\n<text text-anchor=\"start\" x=\"1703.65\" y=\"-282.65\" font-family=\"Times,serif\" font-size=\"12.00\">neighbors</text>\n</g>\n<!-- (&#39;Edges&#39;, &#39;4&#39;)&#45;&gt;(&#39;Edges&#39;, &#39;4&#39;, &#39;neighbors&#39;) -->\n<g id=\"edge54\" class=\"edge\">\n<title>(&#39;Edges&#39;, &#39;4&#39;)&#45;&gt;(&#39;Edges&#39;, &#39;4&#39;, &#39;neighbors&#39;)</title>\n<path fill=\"none\" stroke=\"black\" stroke-width=\"2\" d=\"M1766.4,-389.42C1759.27,-371.1 1747.66,-341.27 1738.87,-318.69\"/>\n</g>\n<!-- (&#39;Edges&#39;, &#39;4&#39;, &#39;surface_area&#39;) -->\n<g id=\"node57\" class=\"node\">\n<title>(&#39;Edges&#39;, &#39;4&#39;, &#39;surface_area&#39;)</title>\n<ellipse fill=\"none\" stroke=\"black\" stroke-width=\"2\" cx=\"1819.9\" cy=\"-286.92\" rx=\"41.37\" ry=\"41.37\"/>\n<text text-anchor=\"start\" x=\"1790.27\" y=\"-282.65\" font-family=\"Times,serif\" font-size=\"12.00\">surface_area</text>\n</g>\n<!-- (&#39;Edges&#39;, &#39;4&#39;)&#45;&gt;(&#39;Edges&#39;, &#39;4&#39;, &#39;surface_area&#39;) -->\n<g id=\"edge55\" class=\"edge\">\n<title>(&#39;Edges&#39;, &#39;4&#39;)&#45;&gt;(&#39;Edges&#39;, &#39;4&#39;, &#39;surface_area&#39;)</title>\n<path fill=\"none\" stroke=\"black\" stroke-width=\"2\" d=\"M1779.53,-389.42C1786.06,-373.01 1796.26,-347.36 1804.77,-325.96\"/>\n</g>\n<!-- (&#39;Edges&#39;, &#39;4&#39;, &#39;periodic&#39;) -->\n<g id=\"node58\" class=\"node\">\n<title>(&#39;Edges&#39;, &#39;4&#39;, &#39;periodic&#39;)</title>\n<ellipse fill=\"none\" stroke=\"black\" stroke-width=\"2\" cx=\"1907.9\" cy=\"-286.92\" rx=\"28.3\" ry=\"28.3\"/>\n<text text-anchor=\"start\" x=\"1888.77\" y=\"-282.65\" font-family=\"Times,serif\" font-size=\"12.00\">periodic</text>\n</g>\n<!-- (&#39;Edges&#39;, &#39;4&#39;)&#45;&gt;(&#39;Edges&#39;, &#39;4&#39;, &#39;periodic&#39;) -->\n<g id=\"edge56\" class=\"edge\">\n<title>(&#39;Edges&#39;, &#39;4&#39;)&#45;&gt;(&#39;Edges&#39;, &#39;4&#39;, &#39;periodic&#39;)</title>\n<path fill=\"none\" stroke=\"black\" stroke-width=\"2\" d=\"M1790.07,-399.81C1810.94,-391.47 1846.28,-375.1 1869.9,-352.11 1881.03,-341.27 1890.07,-326.49 1896.54,-313.84\"/>\n</g>\n</g>\n</svg>\n",
      "text/plain": [
       "<graphviz.graphs.Digraph at 0x12046dbe0>"
      ]
     },
     "execution_count": 10,
     "metadata": {},
     "output_type": "execute_result"
    }
   ],
   "execution_count": 10
  },
  {
   "metadata": {
    "ExecuteTime": {
     "end_time": "2025-05-29T12:20:17.561562Z",
     "start_time": "2025-05-29T12:20:17.447517Z"
    }
   },
   "cell_type": "code",
   "source": "plot_concentrations_2d(comps)",
   "id": "eea34a857313d202",
   "outputs": [
    {
     "data": {
      "text/plain": [
       "(<Figure size 600x500 with 2 Axes>,\n",
       " <Axes: title={'center': 'Glucose Concentration Heatmap'}, xlabel='X Position', ylabel='Y Position'>)"
      ]
     },
     "execution_count": 13,
     "metadata": {},
     "output_type": "execute_result"
    },
    {
     "data": {
      "text/plain": [
       "<Figure size 600x500 with 2 Axes>"
      ],
      "image/png": "[encoded data removed]"
     },
     "metadata": {},
     "output_type": "display_data"
    }
   ],
   "execution_count": 13
  },
  {
   "metadata": {},
   "cell_type": "code",
   "outputs": [],
   "execution_count": null,
   "source": "",
   "id": "db12d4e25b8f96de"
  }
 ],
 "metadata": {
  "kernelspec": {
   "display_name": "Python 3",
   "language": "python",
   "name": "python3"
  },
  "language_info": {
   "codemirror_mode": {
    "name": "ipython",
    "version": 2
   },
   "file_extension": ".py",
   "mimetype": "text/x-python",
   "name": "python",
   "nbconvert_exporter": "python",
   "pygments_lexer": "ipython2",
   "version": "2.7.6"
  }
 },
 "nbformat": 4,
 "nbformat_minor": 5
}
